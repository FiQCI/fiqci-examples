{
 "cells": [
  {
   "cell_type": "markdown",
   "metadata": {},
   "source": [
    "# 04: Deutsch's Algorithm\n",
    "\n",
    "Deutsch's algorithm from 1985 is the first and simplest quantum algorithm. Its significance lies in the fact that it solves a specific problem, *Deutsch's problem*, faster than any classical algorithm.\n",
    "   \n",
    "**The Deutsch's problem:** Consider a function $f : \\{0,1\\} \\rightarrow \\{0,1\\}$ (a function that can take $0$ or $1$ as an input and returns $0$ or $1$ as an output). Is it true that $f(0)=f(1)$?\n",
    "\n",
    "\n",
    "Any classical algorithm would have to evaluate the function $f(x)$ twice, once with $x=0$ and once with $x=1$, to see if the results coincide or not. By using *superposition* and *interference*, quantum computing allows us to solve the problem with a single evaluation. \n",
    "\n",
    "Deutsch's algorithm is executed as a simple quantum circuit with two qubits. In brief, the idea is to evaluate the given problem function $f(x)$ using a superposition of $0$ and $1$ as an input. With the help of an auxiliary qubit, whose state is interfered with the input qubit, a single execution of Deutsch's algorithm reveals whether the studied function is **constant** or **varied**\n",
    "\n",
    "### The 'oracle' function $f(x)$\n",
    "\n",
    "In the lingo of computer science, black box functions that give some output for a given input, but whose internal details are not relevant or known, are called *oracles*. The aim of Deutsch's algorithm is to solve whether a given oracle function is **constant** or **varied**.\n",
    "\n",
    "- **Constant function:** $f(0)=f(1)$ \n",
    "\n",
    "- **Varied (NOT-function):** $f(0) \\neq f(1)$ \n",
    "\n",
    "### The quantum oracle $U_f$ \n",
    "\n",
    "To make a quantum version of the oracle function, we have to represent it as a quantum gate. Since all quantum gates have to be **reversible** (no information can be lost), we need two qubits to realize a one-bit oracle function $f(x)$.\n",
    "\n",
    "The quantum oracle gate $U_f$ operates on a arbitraty two-qubit state as: $U_f|\\hspace{0.1cm}x~ y\\hspace{-0.1cm}> = |\\hspace{0.1cm}x~ y \\oplus f(x) >$, where $\\oplus$ means *addition modulo two*. The four possible input combinations are:\n",
    "1) $\\quad 0 \\oplus 0=0$\n",
    "2) $\\quad 0 \\oplus 1=1$\n",
    "3) $\\quad 1 \\oplus 0=1$\n",
    "4) $\\quad 1 \\oplus 1=0$\n",
    "\n",
    "As a first step of demonstrating the Deutsch algorithm on Qiskit, we prepare an 'unknown' quantum oracle $U_f$, that realizes the oracle function $f(x)$ in a reversible way. We want to choose our oracle gate randomly (**so that we don't know what it exactly is**). In this notebook, we will use Deutsch's algorithm to see whether our oracle function $f(x)$ is:\n",
    "\n",
    "- **Constant f(x):** $U_f$ is identity operator (no gate)\n",
    "\n",
    "- **Varied f(x):** $U_f$ is CNOT-gate\n",
    "\n",
    "In this implementation, we only need basic qiskit and Python packages. We start by importing those."
   ]
  },
  {
   "cell_type": "code",
   "execution_count": 71,
   "metadata": {},
   "outputs": [],
   "source": [
    "from qiskit import QuantumCircuit, transpile\n",
    "from qiskit_aer import Aer\n",
    "\n",
    "from numpy.random import randint    # For generating random integer\n",
    "import matplotlib.pyplot as plt"
   ]
  },
  {
   "cell_type": "markdown",
   "metadata": {},
   "source": [
    "Next, we randomly 'hide' one of the two gates behind the quantum oracle's name $U_f$.\n",
    "\n",
    "Below, we implement the oracle by creating a quantum circuit and allocating two qubits, $q_0$ and $q_1$.\n",
    "\n",
    "We then utilize a random number generator to add one of two possible operations representing function $f(x)$. \n",
    "\n",
    "The **constant function** is implemented with identity operation, in which case we don't add any gates. This means that the qubit $q_0$ will be same as its initial value.\n",
    "\n",
    "The **varied function** is implemented with the CNOT gate. Phase kickback will cause the qubit $q_0$ being flipped."
   ]
  },
  {
   "cell_type": "code",
   "execution_count": 72,
   "metadata": {},
   "outputs": [
    {
     "data": {
      "image/png": "[encoded data removed]",
      "text/plain": [
       "<Figure size 203.683x200.667 with 1 Axes>"
      ]
     },
     "execution_count": 72,
     "metadata": {},
     "output_type": "execute_result"
    }
   ],
   "source": [
    "## We use numpy random integrer generator to choose which gate we will append\n",
    "if randint(2) == 1:\n",
    "    oracle = QuantumCircuit(2)\n",
    "else:\n",
    "    oracle = QuantumCircuit(2)\n",
    "    oracle.cx(0,1)\n",
    "\n",
    "# We can convert the circuit to custom gate\n",
    "oracle = oracle.to_gate(label = 'U_f')\n",
    "\n",
    "# In qiskit you cant draw gates\n",
    "# We can visualize the oracle gate by appending it on circuit\n",
    "oracle_visualized = QuantumCircuit(2)\n",
    "oracle_visualized.append(oracle, range(2))\n",
    "oracle_visualized.draw('mpl', style=\"clifford\")"
   ]
  },
  {
   "cell_type": "markdown",
   "metadata": {},
   "source": [
    "We now have a quantum oracle that is **randomly** set to be either the Identity gate (constant $f(x)$) or the CNOT gate (varied $f(x)$). Our task is to solve, **with just a single evaluation**, which one it is. We do this by building smart quantum machinery around the oracle gate.\n",
    "\n",
    "**Note:** The Deutch algorithm is just a demonstration of quantum computers solving black box problems faster than classical computers. In reality, the algorithm provides no practical quantum advantage, since we add the gates to the circuit, and thus already know what $U_f$ is before even running the algorithm."
   ]
  },
  {
   "cell_type": "markdown",
   "metadata": {},
   "source": [
    "# Deutsch's algorithm: Implementation\n",
    "\n",
    "With the mystery oracle gate prepared above, we can now build a quantum circuit that executes Deutsch's algorithm and determines in one evaluation whether the oracle is constant $(f(0)=f(1))$ or variable $(f(0)\\neq f(1))$ with 100% accuracy. The outline of Deutsch's algorithm is given below.\n",
    "\n",
    "+ **Inputs:** A black box $U_f$ which performs the tranformation $| x\\rangle| y\\rangle \\rightarrow | x\\rangle | y \\oplus f(x)\\rangle$, for $x \\in \\{ 0,1 \\}$ and $f(x) \\in \\{ 0,1 \\}$. The function $f(x)$ must be either *constant* i.e. its output does not depend on the input $x$ or *varied* i.e the output depends on $x$\n",
    "\n",
    "+ **Outputs:** 0 if $f(x)$ is constant and 1 if $f(x)$ is varied\n",
    "\n",
    "+ **Runtime:** One evaluation of $U_f$. Always succeeds.\n",
    "\n",
    "+ **Procedure:**\n",
    "\\begin{alignat*}{2}\n",
    " &1. \\quad |0\\rangle |1\\rangle \\qquad && \\text{initialize the state} \\\\\n",
    " &2. \\quad \\rightarrow \\bigg[ \\frac{|0\\rangle + |1\\rangle}{\\sqrt{2}} \\bigg] \\bigg[ \\frac{|0\\rangle - |1\\rangle}{\\sqrt{2}} \\bigg] \\qquad && \\text{create superposition using Hadamard gates} \\\\\n",
    " &3. \\quad \\rightarrow \\bigg[ \\frac{(-1)^{f(0)}|0\\rangle + (-1)^{f(1)}|1\\rangle}{\\sqrt{2}} \\bigg] \\bigg[ \\frac{|0\\rangle - |1\\rangle}{\\sqrt{2}} \\bigg] \\qquad && \\text{calculate } f \\text{ using } U_f  \\\\\n",
    " &4. \\quad \\rightarrow (-1)^{f(0)} \\bigg[ \\frac{(1+(-1)^{f(0) \\oplus f(1)} )|0\\rangle + (1-(-1)^{f(0) \\oplus f(1)})|1\\rangle }{2} \\bigg] \\bigg[ \\frac{|0\\rangle - |1\\rangle}{\\sqrt{2}} \\bigg] \\qquad && \\text{use Hadamard gate on 1st qubit} \\\\\n",
    " &5. \\quad \\rightarrow 0 \\text{ or } 1 \\qquad && \\text{measure 1st qubit to deduce the answer} \\\\\n",
    "\\end{alignat*}\n",
    "\n",
    "Let's build and evaluate the circuit performing Deutsch's algorithm in Qiskit"
   ]
  },
  {
   "cell_type": "code",
   "execution_count": 73,
   "metadata": {},
   "outputs": [
    {
     "data": {
      "image/png": "[encoded data removed]",
      "text/plain": [
       "<Figure size 538.128x284.278 with 1 Axes>"
      ]
     },
     "execution_count": 73,
     "metadata": {},
     "output_type": "execute_result"
    }
   ],
   "source": [
    "# Allocate two qubits and one classical biy\n",
    "circuit = QuantumCircuit(2,1)\n",
    "\n",
    "circuit.x(1) # flip 2nd qubit\n",
    "circuit.h(0) # put 1st qubit into superposition\n",
    "circuit.h(1) # put 2nd qubit into superposition (with opposite phase)\n",
    "\n",
    "circuit.append(oracle, [0,1]) # Apply our randomly selected oracle\n",
    "\n",
    "# apply Hadamard gate again to 1st qubit. This will undo the superposition\n",
    "# and reduce 1st qubit to state |0> if the oracle was constant or to state |1> if it was varied\n",
    "circuit.h(0)\n",
    "\n",
    "# We want to determine the oracle by measuring the 1st qubit\n",
    "circuit.measure(0,0) \n",
    "\n",
    " ## Visualize the circuit\n",
    "circuit.decompose(reps=0).draw('mpl', style=\"clifford\")"
   ]
  },
  {
   "cell_type": "markdown",
   "metadata": {},
   "source": [
    "By running the circuit and measuring the 1st qubit, we now should be able to figure out the oracle $U_f$ from only one measurement\n",
    "\n",
    "+ Measured qubit $|0\\rangle \\rightarrow U_f$ is identity; $f(x)$ is constant\n",
    "+ Measured qubit $|1\\rangle \\rightarrow U_f$ is CNOT; $f(x)$ is varied\n",
    "\n",
    "The algorithm only works with one measurement when using an ideal noiseless simulator. In the cell below, we run the circuit using `Aer` simulator"
   ]
  },
  {
   "cell_type": "code",
   "execution_count": 74,
   "metadata": {},
   "outputs": [
    {
     "name": "stdout",
     "output_type": "stream",
     "text": [
      "Measured qubit: |0>\n",
      "Oracle was identity\n"
     ]
    }
   ],
   "source": [
    "# Retrieve backend for ideal qiskit Aer simulator\n",
    "backend_simulator = Aer.get_backend('statevector_simulator')\n",
    "\n",
    "# Our circuit contains unknown instruction, which is the oracle we named U_f\n",
    "# Transpiling circuit tells the simulator how to run it\n",
    "circuit_transpiled = transpile(circuit, backend_simulator)\n",
    "\n",
    "# The goal was to run circuit once, so we set shots=1\n",
    "result_1 = backend_simulator.run(circuit_transpiled, shots=1).result()\n",
    "counts_1 = result_1.get_counts()\n",
    "\n",
    "# We get the measured qubit from the only key in dictionary\n",
    "measured_qubit = list(counts_1.keys())[0]\n",
    "\n",
    "# print the state of the first (and only) sample in results\n",
    "print(f\"Measured qubit: |{measured_qubit}>\")\n",
    "if (measured_qubit=='0'):\n",
    "    print(f\"Oracle was identity\")\n",
    "else:\n",
    "    print(f\"Oracle was CNOT\")\n"
   ]
  },
  {
   "cell_type": "markdown",
   "metadata": {},
   "source": [
    "From above, we see that if the measured qubit was in state $|0\\rangle$, our oracle was just identity. On the other hand, if the measured qubit was in state $|1\\rangle$, the oracle was CNOT. Determining the unknown oracle took just a single measurement.\n",
    "\n",
    "Let us convince ourselves, by running the algorithm many times, that this ideal simulation (no noise errors) indeed always succeeds.  "
   ]
  },
  {
   "cell_type": "code",
   "execution_count": 75,
   "metadata": {},
   "outputs": [
    {
     "name": "stdout",
     "output_type": "stream",
     "text": [
      "Measurements: {'0': 100}\n"
     ]
    }
   ],
   "source": [
    "result_2 = backend_simulator.run(circuit_transpiled, shots=100).result()\n",
    "counts_2 = result_2.get_counts()\n",
    "print(f\"Measurements: {counts_2}\")"
   ]
  },
  {
   "cell_type": "markdown",
   "metadata": {},
   "source": [
    "The result is indeed the same for every shot. Let's print the statevector to see what of the qubit state is before we measure it. We are looking at the 1st qubit, which should always have the same state regardless of the state of the 2nd qubit.\n",
    "\n",
    "**Note:** The order of qubits displayed in the statevector is $|q_N...q_2q_1q_0 \\rangle$, so it is to be read from right to left to match the qubit indices in the circuit"
   ]
  },
  {
   "cell_type": "code",
   "execution_count": 76,
   "metadata": {},
   "outputs": [
    {
     "data": {
      "text/latex": [
       "$$\\frac{\\sqrt{2}}{2} |00\\rangle- \\frac{\\sqrt{2}}{2} |10\\rangle$$"
      ],
      "text/plain": [
       "<IPython.core.display.Latex object>"
      ]
     },
     "metadata": {},
     "output_type": "display_data"
    }
   ],
   "source": [
    "state_2 = result_2.get_statevector()\n",
    "display(state_2.draw(output='latex'))"
   ]
  },
  {
   "cell_type": "markdown",
   "metadata": {},
   "source": [
    "Finally, we can print the transpiled circuit. We can see that if the qubit was measured in state $|1\\rangle$, the circuit contains CNOT-gate. Otherwise, there are no 2-qubit gates."
   ]
  },
  {
   "cell_type": "code",
   "execution_count": 77,
   "metadata": {},
   "outputs": [
    {
     "data": {
      "image/png": "[encoded data removed]",
      "text/plain": [
       "<Figure size 370.906x284.278 with 1 Axes>"
      ]
     },
     "execution_count": 77,
     "metadata": {},
     "output_type": "execute_result"
    }
   ],
   "source": [
    "circuit_transpiled.decompose(reps=0).draw('mpl', style=\"clifford\")"
   ]
  },
  {
   "cell_type": "markdown",
   "metadata": {},
   "source": [
    "## Deutsch-Josza algorithm\n",
    "\n",
    "There is a generalization of the Deutsch algorithm from 1992, known as *Deutsch-Josza algorithm*, that operates on any number of qubits. It is really similar to the Deutsch algorithm, the difference being that the input is now a string of n bits (instead of 1 bit) and the algorithm uses $n+1$ qubits instead of 2.\n",
    "\n",
    "The Deutsch-Josza algorithm works only on the condition that the oracle function is either constant (0 on all outputs or 1 on all outputs) or balanced (returns 1 for half of the input strings and 0 for the other half). For such oracle functions, the Deutsch-Josza algorithm figures out whether the oracle is balanced or constant with a single evaluation regardless of the number of bits in the input string.\n",
    "\n",
    "A deterministic classical algorithm would take in the worst case $2^{\\text{n}-1}+1$ evaluations of the oracle function to solve the same problem, where $n$ is a number of bits."
   ]
  },
  {
   "cell_type": "markdown",
   "metadata": {},
   "source": [
    "## Takeaway\n",
    "\n",
    "The outcome of Deutcsh's algorithm reveals whether the oracle function, $f(x)$, under study, is constant or variable. Based on the logic of the algorithm, the outcome implies the following:\n",
    "+ Qubit measured in state $|0\\rangle$ implies $f(0)=f(1)$; the oracle is constant\n",
    "+ Qubit measured in state $|1\\rangle$ implies $f(0)\\neq f(1)$; the oracle is variable\n",
    "\n",
    "On the noiseless quantum computer (simulator in this case), the algorithm succeeds with 100% probability and a single evaluation of the oracle function, which is impossible for classical computers. "
   ]
  }
 ],
 "metadata": {
  "kernelspec": {
   "display_name": "Python 3",
   "language": "python",
   "name": "python3"
  },
  "language_info": {
   "codemirror_mode": {
    "name": "ipython",
    "version": 3
   },
   "file_extension": ".py",
   "mimetype": "text/x-python",
   "name": "python",
   "nbconvert_exporter": "python",
   "pygments_lexer": "ipython3",
   "version": "3.11.8"
  }
 },
 "nbformat": 4,
 "nbformat_minor": 2
}
