{
 "cells": [
  {
   "attachments": {
    "image-5.png": {
     "image/png": "[encoded data removed]"
    }
   },
   "cell_type": "markdown",
   "metadata": {
    "qat-category": "1-Circuit generation in Python",
    "qat-summary": "1-Creation of an EPR pair using two qubits"
   },
   "source": [
    "# 01 Creation of an EPR pair\n",
    "\n",
    "\n",
    "The goal of this Jupyter notebook is to help memorize the basic steps of writing quantum algorithms in Qiskit. We want to create an [EPR (Einstein, Podolsky, Rosen) pair](https://en.wikipedia.org/wiki/Bell_state); a pair of qubits that are maximally [**entangled**](https://en.wikipedia.org/wiki/Quantum_entanglement). More specifically, we'll build the following circuit: \n",
    "\n",
    "![image-5.png](attachment:image-5.png)\n",
    "\n",
    "Remember, that the controlled NOT (CNOT) gate will do nothing if the control qubit (marked with $\\bullet$) is 0 and will flip the target qubit (marked with $\\oplus$), if the control qubit is 1.\n",
    "\n",
    "CNOT is the default entangling gate. In the above circuit it forces the second qubit to have same value as the first qubit, creating a maximally entangled state; an EPR pair.\n",
    "\n",
    "Complete the parts marked with \"XXX\" as we go through the same steps as in the previous notebook to build and execute this circuit."
   ]
  },
  {
   "cell_type": "markdown",
   "metadata": {},
   "source": [
    "## First step: Define a circuit\n",
    "\n",
    "Complete the following cell to import the [`QuantumCircuit`](https://docs.quantum.ibm.com/api/qiskit/qiskit.circuit.QuantumCircuit) object from `qiskit`:"
   ]
  },
  {
   "cell_type": "code",
   "execution_count": 1,
   "metadata": {
    "tags": []
   },
   "outputs": [],
   "source": [
    "from qiskit import QuantumCircuit"
   ]
  },
  {
   "cell_type": "markdown",
   "metadata": {},
   "source": [
    "To prepare an EPR pair, we require two qubits. Furthermore, we want to store the result of the circuit execution in a classical bit. \n",
    "\n",
    "Complete the following cell, by defining a circuit consisting of two qubit and two classical bit, and add name to your ciruit:"
   ]
  },
  {
   "cell_type": "code",
   "execution_count": 11,
   "metadata": {},
   "outputs": [
    {
     "name": "stderr",
     "output_type": "stream",
     "text": [
      "/home/ljerome/anaconda3/envs/cocos/lib/python3.10/site-packages/qiskit/visualization/circuit/matplotlib.py:266: FutureWarning: The default matplotlib drawer scheme will be changed to \"iqp\" in a following release. To silence this warning, specify the current default explicitly as style=\"clifford\", or the new default as style=\"iqp\".\n",
      "  self._style, def_font_ratio = load_style(self._style)\n"
     ]
    },
    {
     "data": {
      "image/png": "[encoded data removed]",
      "text/plain": [
       "<Figure size 161.878x284.278 with 1 Axes>"
      ]
     },
     "execution_count": 11,
     "metadata": {},
     "output_type": "execute_result"
    }
   ],
   "source": [
    "qc = QuantumCircuit(2,2, name='EPR pair')\n",
    "qc.draw('mpl')"
   ]
  },
  {
   "cell_type": "markdown",
   "metadata": {},
   "source": [
    "## Second step: Applying gates"
   ]
  },
  {
   "cell_type": "markdown",
   "metadata": {},
   "source": [
    "Now, we can access our qubits by using the index of the quantum register.\n",
    "\n",
    "To create our EPR pair, we simply need to apply the appropriate gates:\n",
    "+ a Hadamard gate (H)\n",
    "+ a controlled NOT gate (CNOT)\n",
    "\n",
    "The Hadamard gate is of [**arity**](https://en.wikipedia.org/wiki/Arity) 1 since it affects one qubit. \n",
    "\n",
    "Complete the following cell to apply the Hadamard gate on the first qubit in the register of our program:"
   ]
  },
  {
   "cell_type": "code",
   "execution_count": 12,
   "metadata": {},
   "outputs": [
    {
     "data": {
      "image/png": "[encoded data removed]",
      "text/plain": [
       "<Figure size 203.683x284.278 with 1 Axes>"
      ]
     },
     "execution_count": 12,
     "metadata": {},
     "output_type": "execute_result"
    }
   ],
   "source": [
    "qc.h(0)\n",
    "qc.draw(\"mpl\")"
   ]
  },
  {
   "cell_type": "markdown",
   "metadata": {},
   "source": [
    "Once we have applied the Hadamard gate, we can apply the controlled NOT gate.\n",
    "\n",
    "A CNOT gate affects two qubits, so it is a gate of arity 2.\n",
    "\n",
    "For conditional two-qubit gates we need to specify\n",
    "+ first the **control qubit**, whose state will decide the function of the gate\n",
    "+ then the second qubit which will be affected by the gate\n",
    "\n",
    "Complete the cell below:"
   ]
  },
  {
   "cell_type": "code",
   "execution_count": 13,
   "metadata": {},
   "outputs": [
    {
     "data": {
      "image/png": "[encoded data removed]",
      "text/plain": [
       "<Figure size 287.294x284.278 with 1 Axes>"
      ]
     },
     "execution_count": 13,
     "metadata": {},
     "output_type": "execute_result"
    }
   ],
   "source": [
    "qc.cx(0, 1)\n",
    "qc.draw('mpl')"
   ]
  },
  {
   "cell_type": "markdown",
   "metadata": {},
   "source": [
    "We now have assembled the circuit preparing the EPR pair.\n",
    "\n",
    "Next, we are going to execute the circuit on a simulator to study its behaviour."
   ]
  },
  {
   "cell_type": "markdown",
   "metadata": {},
   "source": [
    "## Third step: Printing information about the circuit\n",
    "\n",
    "An important metric of quantum circuits is the **circuit depth**. The circuit depth is the longest sequence of quantum gates in a circuit that need to be executed sequentially.\n",
    "Since the qubits have a limited lifetime, called **decoherence time**, and each circuit gate has a fixed length, the circuit depth is crucial for estimating whether a circuit can be executed on a real device.\n",
    "\n",
    "Study the Qiskit docs for the [`QuantumCircuit`](https://docs.quantum.ibm.com/api/qiskit/qiskit.circuit.QuantumCircuit) class and print import metadata such as number of qubits and classical bits and circuit depth. "
   ]
  },
  {
   "cell_type": "code",
   "execution_count": 14,
   "metadata": {},
   "outputs": [
    {
     "name": "stdout",
     "output_type": "stream",
     "text": [
      "Circuit depth:  2\n",
      "Number of qubits:  2\n",
      "Number of classical bits:  2\n"
     ]
    }
   ],
   "source": [
    "print(\"Circuit depth: \", qc.depth())\n",
    "print(\"Number of qubits: \", qc.num_qubits)\n",
    "print(\"Number of classical bits: \", qc.num_clbits)"
   ]
  },
  {
   "cell_type": "markdown",
   "metadata": {},
   "source": [
    "## Fourth step: Executing the circuit on a simulator and visualizing the results"
   ]
  },
  {
   "cell_type": "markdown",
   "metadata": {},
   "source": [
    "### Full distribution"
   ]
  },
  {
   "cell_type": "markdown",
   "metadata": {},
   "source": [
    "The steps we have done before gave us a circuit. Next, we want to simulate the circuit on our computer using an instance of Qiskit's `Aer` simulator.\n",
    "\n",
    "To do so we first need to:\n",
    "1. Import the `Aer` simulator \n",
    "2. Retrieve a simulator backend\n",
    "3. Submit our quantum circuit to the backend. "
   ]
  },
  {
   "cell_type": "code",
   "execution_count": 15,
   "metadata": {},
   "outputs": [],
   "source": [
    "from qiskit import Aer\n",
    "\n",
    "backend_simulator = Aer.get_backend('statevector_simulator')"
   ]
  },
  {
   "cell_type": "markdown",
   "metadata": {},
   "source": [
    "Be aware that `Aer` supports different simulation methods and that it is also possible to perform noisy simulation which mimics the noise on a real device.\n",
    "\n",
    "Above, we used the `statevector_simulator` method, which represents the initial state $|00\\rangle$ as the vector $[1,0,0,0]^T$ and simulates the circuit by applying matrix-vector multiplications to the state for each gate in the circuit. For an overview of available methods refer to the Qiskit Aer [documentation](https://qiskit.github.io/qiskit-aer/tutorials/1_aersimulator.html#Simulation-Method-Option)."
   ]
  },
  {
   "cell_type": "markdown",
   "metadata": {},
   "source": [
    "We can now submit the quantum circuit to our simulator.\n",
    "\n",
    "To do so we need to use the [`run`](https://qiskit.github.io/qiskit-aer/stubs/qiskit_aer.StatevectorSimulator.html#qiskit_aer.StatevectorSimulator.run) method of our simulator and pass our circuit as a parameter:"
   ]
  },
  {
   "cell_type": "code",
   "execution_count": 16,
   "metadata": {
    "scrolled": true
   },
   "outputs": [],
   "source": [
    "job = backend_simulator.run(qc)\n",
    "result = job.result()"
   ]
  },
  {
   "cell_type": "markdown",
   "metadata": {},
   "source": [
    "We can now print the results, for example like so:"
   ]
  },
  {
   "cell_type": "code",
   "execution_count": 17,
   "metadata": {},
   "outputs": [
    {
     "name": "stdout",
     "output_type": "stream",
     "text": [
      "Statevectors after simulation:  Statevector([0.70710678+0.j, 0.        +0.j, 0.        +0.j,\n",
      "             0.70710678+0.j],\n",
      "            dims=(2, 2))\n"
     ]
    }
   ],
   "source": [
    "psi = result.get_statevector()\n",
    "print(\"Statevectors after simulation: \", psi)"
   ]
  },
  {
   "cell_type": "markdown",
   "metadata": {},
   "source": [
    "Finally, we can print the statevectors using LaTex, verifying that we obtained the state shown at the beginning of the notebook."
   ]
  },
  {
   "cell_type": "code",
   "execution_count": 18,
   "metadata": {},
   "outputs": [
    {
     "data": {
      "text/latex": [
       "$$\\frac{\\sqrt{2}}{2} |00\\rangle+\\frac{\\sqrt{2}}{2} |11\\rangle$$"
      ],
      "text/plain": [
       "<IPython.core.display.Latex object>"
      ]
     },
     "metadata": {},
     "output_type": "display_data"
    }
   ],
   "source": [
    "display(psi.draw(output='latex'))"
   ]
  },
  {
   "cell_type": "markdown",
   "metadata": {},
   "source": [
    "This result tells us, that we can expect to measure the state $|00\\rangle$ with the same probability as the state $|11\\rangle$. Measuring other states such as $|01\\rangle$ or $|10\\rangle$ is impossible in an ideal, noiseless scenario."
   ]
  },
  {
   "cell_type": "markdown",
   "metadata": {},
   "source": [
    "### Measurement  emulation"
   ]
  },
  {
   "cell_type": "markdown",
   "metadata": {},
   "source": [
    "In a real device, we cannot directly measure the statevector. Instead, we execute the same circuit repeatedly and use the measurement outcomes to estimate the true statevector statistically. The number of circuit executions is referred to as **shots**.\n",
    "\n",
    "So far, we have not added any measurement operations to our circuit. Append measurements for the first and second qubit to your circuit:"
   ]
  },
  {
   "cell_type": "code",
   "execution_count": 19,
   "metadata": {},
   "outputs": [
    {
     "data": {
      "image/png": "[encoded data removed]",
      "text/plain": [
       "<Figure size 538.128x284.278 with 1 Axes>"
      ]
     },
     "execution_count": 19,
     "metadata": {},
     "output_type": "execute_result"
    }
   ],
   "source": [
    "qc.measure_all(add_bits=False)\n",
    "qc.draw('mpl')"
   ]
  },
  {
   "cell_type": "markdown",
   "metadata": {},
   "source": [
    "To emulate a real QPU, we can emply a shot based execution of our simulator. To do so you need to pass the `shots` option to the backend `run` function. For example:"
   ]
  },
  {
   "cell_type": "code",
   "execution_count": 20,
   "metadata": {},
   "outputs": [],
   "source": [
    "job = backend_simulator.run(qc, shots=100)"
   ]
  },
  {
   "cell_type": "markdown",
   "metadata": {},
   "source": [
    "And now print the results:"
   ]
  },
  {
   "cell_type": "code",
   "execution_count": 21,
   "metadata": {
    "scrolled": true
   },
   "outputs": [
    {
     "data": {
      "text/plain": [
       "{'00': 54, '11': 46}"
      ]
     },
     "execution_count": 21,
     "metadata": {},
     "output_type": "execute_result"
    }
   ],
   "source": [
    "result = job.result()\n",
    "result.get_counts()"
   ]
  },
  {
   "cell_type": "markdown",
   "metadata": {},
   "source": [
    "As we can see, the counts are not equally distributed between measuring $|00\\rangle$ and $|11\\rangle$. This is because we only made a crude approximation of the true state probabilities.\n",
    "\n",
    "To obtain a better estimate, the number of shots need to be increased (try it!). In practical applications the required number of shots depend on many factors such as algorithm employed or device noise."
   ]
  },
  {
   "cell_type": "markdown",
   "metadata": {},
   "source": [
    "It is also possible to obtain the raw samples from the backend without aggregating the results by using the option `memory=True`"
   ]
  },
  {
   "cell_type": "code",
   "execution_count": null,
   "metadata": {},
   "outputs": [],
   "source": [
    "job = backend_simulator.run(qc, shots=100, memory=True)\n",
    "result = job.result()"
   ]
  },
  {
   "cell_type": "code",
   "execution_count": 23,
   "metadata": {},
   "outputs": [
    {
     "name": "stdout",
     "output_type": "stream",
     "text": [
      "Measured states:\n"
     ]
    },
    {
     "data": {
      "text/plain": [
       "['11',\n",
       " '00',\n",
       " '00',\n",
       " '00',\n",
       " '00',\n",
       " '11',\n",
       " '00',\n",
       " '11',\n",
       " '11',\n",
       " '00',\n",
       " '00',\n",
       " '00',\n",
       " '00',\n",
       " '11',\n",
       " '00',\n",
       " '00',\n",
       " '11',\n",
       " '11',\n",
       " '00',\n",
       " '11',\n",
       " '11',\n",
       " '00',\n",
       " '11',\n",
       " '00',\n",
       " '11',\n",
       " '00',\n",
       " '11',\n",
       " '11',\n",
       " '00',\n",
       " '00',\n",
       " '11',\n",
       " '00',\n",
       " '00',\n",
       " '11',\n",
       " '00',\n",
       " '11',\n",
       " '00',\n",
       " '11',\n",
       " '11',\n",
       " '11',\n",
       " '00',\n",
       " '11',\n",
       " '00',\n",
       " '00',\n",
       " '00',\n",
       " '00',\n",
       " '11',\n",
       " '00',\n",
       " '00',\n",
       " '11',\n",
       " '00',\n",
       " '00',\n",
       " '00',\n",
       " '11',\n",
       " '00',\n",
       " '00',\n",
       " '11',\n",
       " '11',\n",
       " '11',\n",
       " '11',\n",
       " '00',\n",
       " '00',\n",
       " '00',\n",
       " '00',\n",
       " '00',\n",
       " '00',\n",
       " '00',\n",
       " '00',\n",
       " '11',\n",
       " '11',\n",
       " '00',\n",
       " '11',\n",
       " '00',\n",
       " '11',\n",
       " '11',\n",
       " '11',\n",
       " '11',\n",
       " '00',\n",
       " '00',\n",
       " '11',\n",
       " '00',\n",
       " '00',\n",
       " '11',\n",
       " '11',\n",
       " '11',\n",
       " '00',\n",
       " '00',\n",
       " '00',\n",
       " '11',\n",
       " '11',\n",
       " '11',\n",
       " '11',\n",
       " '11',\n",
       " '00',\n",
       " '11',\n",
       " '00',\n",
       " '11',\n",
       " '00',\n",
       " '11',\n",
       " '00']"
      ]
     },
     "execution_count": 23,
     "metadata": {},
     "output_type": "execute_result"
    }
   ],
   "source": [
    "print(\"Measured states:\")\n",
    "result.get_memory()"
   ]
  },
  {
   "cell_type": "markdown",
   "metadata": {},
   "source": [
    "As you can see, the information we are getting are the raw shot results, which are the states observed in each measurement."
   ]
  },
  {
   "cell_type": "markdown",
   "metadata": {
    "collapsed": true
   },
   "source": [
    "## Takeaway\n",
    "Recap of how to:\n",
    "+ Create a quantum circuit\n",
    "+ Allocate qubits and classical bits to the circuit\n",
    "+ Apply quantum gates\n",
    "+ Instantiate Qiskit's `Aer` quantum simulator\n",
    "+ Obtain the state vector (full distribution) of a circuit\n",
    "+ Emulate shot-based measurements"
   ]
  }
 ],
 "metadata": {
  "kernelspec": {
   "display_name": "Python 3",
   "language": "python",
   "name": "python3"
  },
  "language_info": {
   "codemirror_mode": {
    "name": "ipython",
    "version": 3
   },
   "file_extension": ".py",
   "mimetype": "text/x-python",
   "name": "python",
   "nbconvert_exporter": "python",
   "pygments_lexer": "ipython3",
   "version": "3.10.14"
  }
 },
 "nbformat": 4,
 "nbformat_minor": 1
}
