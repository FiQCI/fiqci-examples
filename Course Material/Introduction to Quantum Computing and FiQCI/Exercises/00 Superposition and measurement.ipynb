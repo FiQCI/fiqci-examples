{
 "cells": [
  {
   "cell_type": "markdown",
   "metadata": {},
   "source": [
    "# Quantum Helloworld: Superposition and measurement\n",
    "\n",
    "\n",
    "The goal of this jupyter notebook is to help you write your first quantum program using Qiskit.\n",
    "This will help you understand its main functionalities:\n",
    "+ Import qiskit methods\n",
    "+ Retrieve backend\n",
    "+ Allocate qubits\n",
    "+ Apply gates\n",
    "+ Transpile circuit\n",
    "+ Submit quantum job\n",
    "+ Display the results\n",
    "\n",
    "In this example, we will build a circuit that creates a quantum superposition state and then run the circuit on Finnish quantum computer, Helmi"
   ]
  },
  {
   "cell_type": "markdown",
   "metadata": {},
   "source": [
    "## First step: Import qiskit methods\n",
    "\n",
    "\n",
    "\n",
    "The first step towards using Qiskit is to import necessary methods:\n",
    "\n",
    "+ `QuantumCircuit`: Qiskit object that contains the instructions for quantum computer to execute. (Basically our quantum program)\n",
    "+ `transpile`: Qiskit method that rewrites a quantum circuit to make it compatible with specific hardware\n",
    "+ `Aer`: Qiskits' own quantum simulator\n",
    "+ `IQMProvider`: Used to retrieve client to connect to Helmi quantum computer (control stack)\n",
    "+ `os`: Used to get environment variable for Helmi when using LUMI-supercomputer\n",
    "\n",
    "The following cell imports the everything we require in this notebook"
   ]
  },
  {
   "cell_type": "code",
   "execution_count": null,
   "metadata": {},
   "outputs": [],
   "source": [
    "from qiskit import QuantumCircuit, transpile\n",
    "from qiskit import Aer\n",
    "from iqm.qiskit_iqm import IQMProvider\n",
    "import os"
   ]
  },
  {
   "cell_type": "markdown",
   "metadata": {},
   "source": [
    "We now have all the tools we need to create the program we want to implement. We want to send send a job to quantum computer, which we runs our quantum circuit.\n",
    "\n",
    "To clarify:\n",
    "+ Quantum circuit is our program, which we run on quantum computer\n",
    "+ Job can consist of one or more quantum circuits"
   ]
  },
  {
   "cell_type": "markdown",
   "metadata": {},
   "source": [
    "## Second step: Retrieve backend\n",
    "\n",
    "Backend is what runs our program.\n",
    "\n",
    "Backend can be:\n",
    "+ Simulator: Quantum job is simulated on classical computer. Simulator can be ideal, or it can have a noise profile mimicking real quantum device\n",
    "+ QPU (Quantum Processing unit): Quantum job is run on a real quantum computer\n",
    "\n",
    "In this notebook, we demonstrate both of these backends.\n",
    "\n",
    "First we choose is a simulator that performs calculations using statevectors. The following cell retrieves backend for the ideal, noiseless `statevector_simulator` from `Aer`"
   ]
  },
  {
   "cell_type": "code",
   "execution_count": null,
   "metadata": {},
   "outputs": [],
   "source": [
    "backend_simulator = Aer.get_backend('statevector_simulator')"
   ]
  },
  {
   "cell_type": "markdown",
   "metadata": {},
   "source": [
    "To run jobs on real quantum computers, we need a different backend. \n",
    "\n",
    "We will use Helmi, the Finnish quantum computer connected to LUMI-supercomputer. Note, that to access Helmi you must be using correct node of LUMI.\n",
    "\n",
    "Following steps are needed:\n",
    "+ Get environment variable `HELMI_CORTEX_URL`\n",
    "+ Initialize `IQMProvider` with Helmi server URL\n",
    "+ Retrieve backend for Helmi quantum computer"
   ]
  },
  {
   "cell_type": "code",
   "execution_count": null,
   "metadata": {},
   "outputs": [],
   "source": [
    "## Helmi Quantum Computer------------------------------\n",
    "HELMI_CORTEX_URL = os.getenv('HELMI_CORTEX_URL')\n",
    "provider = IQMProvider(HELMI_CORTEX_URL)\n",
    "backend_helmi = provider.get_backend()\n",
    "##-----------------------------------------------------\n",
    "\n",
    "## Helmi Simulator (BACKUP OPTION)-------------------------------------\n",
    "#from iqm.qiskit_iqm import IQMFakeAdonis\n",
    "#backend_helmi = IQMFakeAdonis()\n",
    "##-----------------------------------------------------"
   ]
  },
  {
   "cell_type": "markdown",
   "metadata": {},
   "source": [
    "Next, we proceed to write our quantum program, which we run using the backends we just defined."
   ]
  },
  {
   "cell_type": "markdown",
   "metadata": {},
   "source": [
    "## Third step: Allocate qubits\n",
    "\n",
    "Creating a quantum circuit starts by allocating qubits. In our example, we need to allocate only one qubit\n",
    "\n",
    "We need to:\n",
    "+ Create `QuantumCircuit` object\n",
    "+ define the number of qubits and classical bits in our circuit\n",
    "\n",
    "The following cell allocates (creates) one qubit and one classical bit to our circuit:"
   ]
  },
  {
   "cell_type": "code",
   "execution_count": null,
   "metadata": {},
   "outputs": [],
   "source": [
    "qc = QuantumCircuit(1,1)"
   ]
  },
  {
   "cell_type": "markdown",
   "metadata": {},
   "source": [
    "We can visualize the circuit by calling `draw` method. The `'mpl'` sets the matplotlib style renderer, and `style='clifford'` sets a specific visual style."
   ]
  },
  {
   "cell_type": "code",
   "execution_count": null,
   "metadata": {},
   "outputs": [],
   "source": [
    "qc.draw('mpl', style='clifford')"
   ]
  },
  {
   "cell_type": "markdown",
   "metadata": {},
   "source": [
    "## Fourth step: Applying gates\n",
    "\n",
    "Now, we can have access to our qubit using indices of qubit register.\n",
    "\n",
    "Registers behave like python list/arrays, for example if your register is named QUBIT_REGISTER:\n",
    "+ QUBIT_REGISTER[0] is the first qubit.\n",
    "+ QUBIT_REGISTER[1] is the second qubit.\n",
    "\n",
    "To create a superposition, we simply need to apply the Hadamard gate to the qubit:\n",
    "\n",
    "To do so we need to:\n",
    "+ specify on which circuit we wish to apply our gate\n",
    "+ specify the gate we wish to apply\n",
    "+ specify the name of the qubit register we wish to apply the gate (in this case, we didn't name the register as we only have one qubit)\n",
    "+ specify the index of the qubit inside the register\n",
    "\n",
    "The following cell applies the Hadamard gate `h` to the first (and in this case only) qubit in the register:"
   ]
  },
  {
   "cell_type": "code",
   "execution_count": null,
   "metadata": {},
   "outputs": [],
   "source": [
    "qc.h(0)\n",
    "\n",
    "# We again draw the circuit to see our gate applied\n",
    "qc.draw('mpl', style='clifford')"
   ]
  },
  {
   "cell_type": "markdown",
   "metadata": {},
   "source": [
    "We can also get useful information about the circuit like number of qubits, classical bits and depth (number of circuit layers)"
   ]
  },
  {
   "cell_type": "code",
   "execution_count": null,
   "metadata": {},
   "outputs": [],
   "source": [
    "print(\"Number of qubits: \", qc.num_qubits)\n",
    "print(\"Number of classical bits: \", qc.num_clbits)\n",
    "print(\"Circuit depth: \", qc.depth())"
   ]
  },
  {
   "cell_type": "markdown",
   "metadata": {},
   "source": [
    "## Theory: Statevectors\n",
    "\n",
    "A brief overview on how our quantum circuit can be represented using quantum mechanical statevectors.\n",
    "First, we must define two concepts, which are qubits computational basis and quantum gates:\n",
    "<br><br>\n",
    "\n",
    "+ Qubits computational basis consists of orthonormal statevectors $|0\\rangle$ and $|1\\rangle$, which are analogous to the 0 and 1 of classical bits. Orthonormality means, that the inner product satisfies \n",
    "$\\langle 0|0 \\rangle = \\langle 1|1 \\rangle = 1$, and $\\langle 0|1 \\rangle = \\langle 1|0 \\rangle = 0$\n",
    "+ Any qubit superposition state can be written as a linear combination of the basis states.\n",
    "+ Quantum logic gates are represented as unitary matrices. Applying quantum gates to qubits can be described using linear algebra\n",
    "\n",
    "<br><br>\n",
    "Computational basis states and the Hadamard gate ($H$ gate in our circuit) can be written as:\n",
    "\n",
    "\\begin{equation*}\n",
    "|0\\rangle = \n",
    "    \\begin{bmatrix}\n",
    "    1\\\\\n",
    "    0\n",
    "    \\end{bmatrix} \n",
    "\\qquad \n",
    "|1\\rangle = \n",
    "    \\begin{bmatrix}\n",
    "    0\\\\\n",
    "    1\n",
    "    \\end{bmatrix} \n",
    "\\qquad \n",
    "H = \\frac{1}{\\sqrt{2}}\n",
    "    \\begin{bmatrix}\n",
    "    1 & 1\\\\\n",
    "    1 & -1\n",
    "    \\end{bmatrix}  \n",
    "\\end{equation*}\n",
    "<br><br>\n",
    "\n",
    "Let's now see what our quantum circuit does. We call the state it creates $|\\psi\\rangle$. \n",
    "\n",
    "If the qubit starts at state $|0\\rangle$, applying the Hadamard gate does the following:\n",
    "\n",
    "\\begin{equation*}\n",
    "|\\psi\\rangle = H |0\\rangle = \\frac{1}{\\sqrt{2}}\n",
    "    \\begin{bmatrix}\n",
    "    1 & 1\\\\\n",
    "    1 & -1\n",
    "    \\end{bmatrix}\n",
    "    \\begin{bmatrix}\n",
    "    1\\\\\n",
    "    0\n",
    "    \\end{bmatrix} = \n",
    "    \\frac{1}{\\sqrt{2}}|0\\rangle + \\frac{1}{\\sqrt{2}}|1\\rangle\n",
    "\\end{equation*}\n",
    "\n",
    "\n",
    "We see that after applying the hadamard gate, the qubit is in a superposition where both computational states have amplitude $1/\\sqrt{2} \\approx 0.707$\n",
    "\n",
    "Below we show, how one can calculate the statevector in  Qiskit"
   ]
  },
  {
   "cell_type": "markdown",
   "metadata": {},
   "source": [
    "*NOTE*: THE FOLLOWING DOES NOT WORK WITH REAL QUANTUM COMPUTER. STATEVECTOR IS ONLY ACCESSIBLE IN SIMULATIONS\n",
    "\n",
    "To see what the circuit does, we can run it using `backend_simulator` to calculate the statevector for the system\n",
    "\n",
    "We use `run` method of the backend:\n",
    "+ Parameter: Circuit you want to run\n",
    "+ Returns: Job which contains information about the execution of the circuit. In this case we want the statevector"
   ]
  },
  {
   "cell_type": "code",
   "execution_count": null,
   "metadata": {},
   "outputs": [],
   "source": [
    "job_simulator = backend_simulator.run(qc)\n",
    "\n",
    "statevector = job_simulator.result().get_statevector()\n",
    "\n",
    "# We can display the statevector using LaTex\n",
    "display(statevector.draw(output='latex'))"
   ]
  },
  {
   "cell_type": "markdown",
   "metadata": {},
   "source": [
    "Our simulated amplitudes match the ones we explicitly calculated above"
   ]
  },
  {
   "cell_type": "code",
   "execution_count": null,
   "metadata": {},
   "outputs": [],
   "source": [
    "print(f\"Amplitude of state |0>: {statevector[0]}\")\n",
    "print(f\"Amplitude of state |1>: {statevector[1]}\")"
   ]
  },
  {
   "cell_type": "markdown",
   "metadata": {},
   "source": [
    "Now what does the amplitude represent? When we measure a quantum system, we observe the system in a certain state with a certain probability. For example, probability to observe our qubit in state $|0\\rangle$ is\n",
    "\n",
    "\\begin{equation*}\n",
    "P_0 = |\\langle 0 | \\psi \\rangle|^2 = \\bigg|\\frac{1}{\\sqrt{2}} \\bigg|^2 \\big(|\\langle 0 | 0 \\rangle|^2 + |\\langle 0 | 1 \\rangle|^2 \\big) = \\frac{1}{2}\n",
    "\\end{equation*}\n",
    "\n",
    "That means probability for measuring the state $|0\\rangle$ is 50%. In same way, we can calculate the probability for measuring the state $|1\\rangle$, which in this case is also 50%.\n",
    "\n",
    "In the rest of this notebook, we demonstrate this by running our circuit with real quantum computer."
   ]
  },
  {
   "cell_type": "markdown",
   "metadata": {},
   "source": [
    "## Fifth step: Add measurement and transpile the circuit\n",
    "\n",
    "With real QPU, we cannot get the statevector of the system. To get information out of the qubits, we perform measurements.\n",
    "\n",
    "In this example, we have one qubit we want to measure, so we add measurement instruction to the circuit\n",
    "\n",
    "We do this by calling `measure`, which takes two arguments:\n",
    "+ The index of qubit we want to measure\n",
    "+ The index of classical bit in which we store the result"
   ]
  },
  {
   "cell_type": "code",
   "execution_count": null,
   "metadata": {},
   "outputs": [],
   "source": [
    "## Let's make a copy of the circuit to not affect the previous cells\n",
    "qc_measured = qc.copy()\n",
    "\n",
    "qc_measured.measure(0,0)\n",
    "qc_measured.draw('mpl', style='clifford')"
   ]
  },
  {
   "cell_type": "markdown",
   "metadata": {},
   "source": [
    "Before we can run the circuit, we have to do one more thing. Unlike ideal simulator, real QPU has limited qubit connectivity and only has small set of native operations it can execute.\n",
    "Our circuit has to be mapped to the topology and native gates of the QPU.\n",
    "\n",
    "To do this, we use `transpile`:\n",
    "+ Parameters: Circuit to be transpiled and the backend\n",
    "+ Returns: Circuit with QPU specific instructions\n",
    "\n",
    "Below we transpile our circuit for Helmi"
   ]
  },
  {
   "cell_type": "code",
   "execution_count": null,
   "metadata": {},
   "outputs": [],
   "source": [
    "qc_transpiled = transpile(qc_measured, backend_helmi)\n",
    "qc_transpiled.draw('mpl', style='clifford')"
   ]
  },
  {
   "cell_type": "markdown",
   "metadata": {},
   "source": [
    "As we see, circuit was mapped to the Helmi 5-qubit QPU. Now that the circuit is transpiled, we can proceed to submit it to the quantum computer."
   ]
  },
  {
   "cell_type": "markdown",
   "metadata": {},
   "source": [
    "## Sixth step: Run circuit on QPU\n",
    "\n",
    "Now it is time to submit our circuit to Helmi. \n",
    "\n",
    "Quantum computing is all about probabilities. Because our measurement only yield results in a form of zeros and ones, and each measurement collapses the quantum state, we have to run the circuit multiple times.\n",
    "We thus specify variable `shots`, which is how many times the quantum circuit is repeated.\n",
    "\n",
    "To send the job to Helmi, we use `run` method of the `backend_helmi`\n",
    "\n",
    "In the following cell, we run a job in which circuit is executed on Helmi repeatedly 5 times"
   ]
  },
  {
   "cell_type": "code",
   "execution_count": null,
   "metadata": {},
   "outputs": [],
   "source": [
    "shots = 5\n",
    "\n",
    "job_QPU = backend_helmi.run(qc_transpiled, shots=shots)"
   ]
  },
  {
   "cell_type": "markdown",
   "metadata": {},
   "source": [
    "When submitting a job to Helmi a unique identifier for your job is returned. This can be used to gather additional information about the circuit you just submitted and the results. **You should save your job ids!**\n",
    "\n",
    "The status of the job can be queried using `job.status()`. Using the job id, you can retrieve previous jobs."
   ]
  },
  {
   "cell_type": "code",
   "execution_count": null,
   "metadata": {},
   "outputs": [],
   "source": [
    "print(f\"Job ID: {job_QPU.job_id()}.\")\n",
    "print(f\"Tracking execution of job: {job_QPU.status()}\")"
   ]
  },
  {
   "cell_type": "markdown",
   "metadata": {},
   "source": [
    "Once the job is completed, we can get the results using `job.result()`"
   ]
  },
  {
   "cell_type": "code",
   "execution_count": null,
   "metadata": {},
   "outputs": [],
   "source": [
    "result = job_QPU.result()"
   ]
  },
  {
   "cell_type": "markdown",
   "metadata": {},
   "source": [
    "## Seventh step: Read out the result\n",
    "\n",
    "The `result` object is an array containing measurements but also metadata about the experiment. For example:\n",
    "+ `result.get_counts()`: Returns dictionary of measured states and number of times they were measured\n",
    "+ `result._get_experiment().shots`: Returns the number of shots\n",
    "\n",
    "In the following cell, we use these methods to print the results in a nice way. We can get the probability for measurement by dividing the number of counts by the total amount of shots"
   ]
  },
  {
   "cell_type": "code",
   "execution_count": null,
   "metadata": {},
   "outputs": [],
   "source": [
    "counts = result.get_counts()\n",
    "experiment = result._get_experiment()\n",
    "\n",
    "for sample in counts:\n",
    "    print(f\"Measurement: {sample}, Hits: {counts[sample]}, Probability: {counts[sample]/experiment.shots}\")"
   ]
  },
  {
   "cell_type": "markdown",
   "metadata": {},
   "source": [
    "The probabilities here are not quite 50%. That is because of the low number of shots. Often in quantum computing, much higher number of shots is needed.\n",
    "\n",
    "Below we see, that by increasing the number of shots, the probabilities approach 50%"
   ]
  },
  {
   "cell_type": "code",
   "execution_count": null,
   "metadata": {},
   "outputs": [],
   "source": [
    "result_2 = backend_helmi.run(qc_transpiled, shots=1000).result()\n",
    "\n",
    "counts_2 = result_2.get_counts()\n",
    "experiment_2 = result_2._get_experiment()\n",
    "\n",
    "for sample in counts_2:\n",
    "    print(f\"Measurement: {sample}, Hits: {counts_2[sample]}, Probability: {counts_2[sample]/experiment_2.shots}\")"
   ]
  },
  {
   "cell_type": "markdown",
   "metadata": {},
   "source": [
    "## Real world application: true random numbers"
   ]
  },
  {
   "cell_type": "markdown",
   "metadata": {},
   "source": [
    "Since the outcomes of quantum system's measurements are **fundamentally random**, they can be utilized in production of truly random numbers (as opposed to quasi-random numbers, whose patterns can be predicted with enough information).   \n",
    "\n",
    "We review one more example, where we show a neat way of printing 'true random numbers'. \n",
    "\n",
    "By default the results of a job are aggregated. This means that if we launch measurements for example 10 times (`shots=10`), repeating outcomes are stored under one label along with the number they repeated (this is how we previously got the probability of each outcome).\n",
    "\n",
    "It is possible to create a job without aggregating the results by passing the parameter `memory=True`"
   ]
  },
  {
   "cell_type": "code",
   "execution_count": null,
   "metadata": {},
   "outputs": [],
   "source": [
    "# Create a job where we specify the number of shots and disable the aggregation of measurement outcomes\n",
    "result_3 = backend_simulator.run(qc_transpiled, shots=10, memory=True).result()\n",
    "\n",
    "measurements = result_3.get_memory()\n",
    "\n",
    "# And use it to print 10 samples\n",
    "for i, measurement in enumerate(measurements):\n",
    "    print(f\"Shot number: {i}, We measured {measurement}\")"
   ]
  },
  {
   "cell_type": "markdown",
   "metadata": {},
   "source": [
    "As you can see, the only information we are getting are the states of each execution.\n",
    "\n",
    "Let's modify the printing a little to get nice looking random number sequences:"
   ]
  },
  {
   "cell_type": "code",
   "execution_count": null,
   "metadata": {},
   "outputs": [],
   "source": [
    "# Include the argument end='' to print the results in one line\n",
    "for measurement in measurements:\n",
    "    print(measurement, end='') "
   ]
  },
  {
   "cell_type": "markdown",
   "metadata": {},
   "source": [
    "## Takeaway\n",
    "\n",
    "We have seen how to:\n",
    "+ Import qiskit methods\n",
    "+ Retrieve backend\n",
    "+ Allocate qubits\n",
    "+ Apply gates\n",
    "+ Represent circuits as statevectors\n",
    "+ Transpile circuit\n",
    "+ Submit quantum job\n",
    "+ Display the results\n",
    "\n",
    "We only covered here the basics of using Qiskit. For more information, visit Qiskit on IQM user guide https://iqm-finland.github.io/qiskit-on-iqm/user_guide.html"
   ]
  }
 ],
 "metadata": {
  "kernelspec": {
   "display_name": "Python 3 (ipykernel)",
   "language": "python",
   "name": "python3"
  },
  "language_info": {
   "codemirror_mode": {
    "name": "ipython",
    "version": 3
   },
   "file_extension": ".py",
   "mimetype": "text/x-python",
   "name": "python",
   "nbconvert_exporter": "python",
   "pygments_lexer": "ipython3",
   "version": "3.10.10"
  }
 },
 "nbformat": 4,
 "nbformat_minor": 4
}
