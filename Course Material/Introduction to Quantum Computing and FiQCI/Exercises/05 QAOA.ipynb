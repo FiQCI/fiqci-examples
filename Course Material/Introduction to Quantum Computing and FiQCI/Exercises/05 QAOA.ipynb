{
 "cells": [
  {
   "cell_type": "markdown",
   "metadata": {},
   "source": [
    "# 05: QAOA (Quantum Approximate Optimization Algorithm)\n",
    "    \n",
    "   This exercise will guide you along the following steps:\n",
    "   \n",
    "   + What is MaxCut problem\n",
    "   + Defining the cost function for MaxCut\n",
    "   + Converting the cost function to quantum Hamiltonian describing energy landscape\n",
    "   + Building QAOA ansatz using qiskit\n",
    "   + Determining the parameters of the QAOA circuit with classical optimizer\n",
    "   + Result readout\n",
    "\n",
    "In this notebook, we need the basic qiskit methods we have used in earlier notebooks. As QAOA is an iterative hybrid algorithm, we also need a classical tool for minimizing a function. For this we use `scipy.optimize.minimize`. In addition, we use `matplotlib` for plotting results and `networkx` for drawing graphs.\n",
    "\n",
    "We import all necessary methods into the following cell"
   ]
  },
  {
   "cell_type": "code",
   "execution_count": null,
   "metadata": {},
   "outputs": [],
   "source": [
    "from qiskit import QuantumCircuit, transpile\n",
    "from qiskit_aer import Aer\n",
    "from qiskit.visualization import plot_histogram\n",
    "\n",
    "from scipy.optimize import minimize\n",
    "\n",
    "import matplotlib.pyplot as plt\n",
    "import networkx as nx"
   ]
  },
  {
   "cell_type": "markdown",
   "metadata": {},
   "source": [
    "## In this hands-on exercise, we will solve the MaxCut problem with QAOA. \n"
   ]
  },
  {
   "cell_type": "markdown",
   "metadata": {},
   "source": [
    "### I) Preparing a graph\n",
    "\n",
    "First, we generate a graph that will be the testbed for our algorithm.\n",
    "\n",
    "To generate a graph, we define `nodes` and `edges`, and store them in the dictionary named `graph` "
   ]
  },
  {
   "cell_type": "code",
   "execution_count": null,
   "metadata": {},
   "outputs": [],
   "source": [
    "nodes = [0, 1, 2, 3]\n",
    "edges = [(0,1), (1,2), (2,3), (0,3)]\n",
    "\n",
    "graph = {'nodes': nodes, 'edges':edges}"
   ]
  },
  {
   "cell_type": "markdown",
   "metadata": {},
   "source": [
    "We can draw our graph using `networkx` library "
   ]
  },
  {
   "cell_type": "code",
   "execution_count": null,
   "metadata": {},
   "outputs": [],
   "source": [
    "# Initialize graph. Add nodes and edges\n",
    "G = nx.Graph()\n",
    "G.add_nodes_from(graph['nodes'])\n",
    "G.add_edges_from(graph['edges'])\n",
    "\n",
    "# Set the layout. With fixed seed, the layout is always the same\n",
    "pos=nx.spring_layout(G, seed=0)\n",
    "\n",
    "# Print information about the graph\n",
    "print(G)\n",
    "\n",
    "# Draw the graph\n",
    "nx.draw(G, pos, with_labels=True)\n",
    "ax = plt.gca()\n",
    "plt.show()"
   ]
  },
  {
   "cell_type": "markdown",
   "metadata": {},
   "source": [
    "### II) Problem formulation: MaxCut\n",
    "\n",
    "MaxCut is a combinatorial optimization problem. The goal of solving the MaxCut problem is to find a cut that divides the vertices of a graph into two complementary sets while maximizing the number of edges between the sets.\n",
    "We can formulate the MaxCut problem in terms of the **cost function** $C$, which describes the goal of having connected vertices belonging to different partitions using the logical operators called exclusive-OR (XOR).\n",
    "\n",
    "**Step 1: Classical cost function**\n",
    " \n",
    "We denote the exclusive-OR operator as $\\wedge$ (In Python, bitwise XOR is represented by `^`). For example, given binary numbers $A,B \\in \\{0,1\\}$.\n",
    "\\begin{align*}\n",
    "A \\wedge B = \n",
    "\\begin{cases}\n",
    "    1,              & \\text{if } A \\neq B \\\\\n",
    "    0,              & \\text{if } A=B \n",
    "\\end{cases}\n",
    "\\end{align*}\n",
    "\n",
    "We can use these kinds of boolean clauses to formulate our **cost function** $C$. To do this, we state that we have two partitions, which we label 0-partition and 1-partition. We assign variable $v_i \\in \\{ 0,1 \\}$, that states in which partition vertex number $i$ is located. Now, if we have an edge $(i,j)$, the associated pair of variables $(v_i, v_j)$ has XOR operation\n",
    "\\begin{align*}\n",
    "v_i \\wedge v_j = \n",
    "\\begin{cases}\n",
    "    1,              & \\text{if } v_i \\neq v_j \\quad \\text{i.e vertices belong in different partitions} \\\\\n",
    "    0,              & \\text{if } v_i =v_j     \\quad \\text{i.e vertices belong in same partition}\n",
    "\\end{cases}\n",
    "\\end{align*}\n",
    "The cost function $C$ is a sum of these operations, where each term corresponds to one edge in the graph. The cost function achieves maximum when the number of cut edges is as large as possible.\n",
    "\\begin{equation*}\n",
    "C = \\sum_{(i,j) \\in \\text{edges} } v_i \\wedge v_j\n",
    "\\end{equation*}\n",
    "\n",
    "**Example:** If a graph, where $v_i$ represents $i^\\text{th}$ vertex, has a set of edges $\\{(0, 1)$, $(1, 2)$, $(2, 3)$, $(0, 3)\\}$, the cost function is\n",
    "\\begin{equation*}\n",
    "C = v_0 \\wedge v_1 + v_1 \\wedge v_2 + v_2 \\wedge v_3 + v_0 \\wedge v_3\n",
    "\\end{equation*}\n",
    "The maximum value of this cost function is 4, which means none of the adjacent vertices belong to the same partition, ie. $v_0=v_2=0$ and $v_1=v_3=1$.\n",
    "On the other hand, the minimum value is 0, in case all of them belong to the same partition.\n",
    "\n",
    "The next step is where binary numbers come into the picture. In a graph of $N$ vertices, a single binary number $v=v_0v_1v_2v_3... v_i...v_N$, where $v_i$ is for $i^\\text{th}$ vertex, can tell for all vertices whether they are in 0-partition or 1-partition.\n",
    "Basically, we can write the cost function as a sum\n",
    "\\begin{equation*}\n",
    "C = \\sum_{\\alpha=1}^{m} C_\\alpha(v), \n",
    "\\qquad \\text{where} \\qquad  C_\\alpha(v) = \n",
    "\\begin{cases}\n",
    "    1,              & \\text{if vertices in } \\alpha^\\text{th} \\text{ edge belong in different partitions} \\\\\n",
    "    0,              & \\text{if vertices in } \\alpha^\\text{th} \\text{ edge belong in same partition}\n",
    "\\end{cases}\n",
    "\\end{equation*}\n",
    "Since the binary number $v=v_0v_1v_2v_3... v_i...v_N$ tells us exactly in which of the two partitions all the vertices in the graph belong, it also tells us how to cut the graph to achieve such a partition. The binary number that maximizes the cost function (the number of edges between the sets), thus solves the problem."
   ]
  },
  {
   "cell_type": "markdown",
   "metadata": {},
   "source": [
    "**Step 2: Mapping to quantum Hamiltonian** \n",
    "\n",
    "We now need a way to convert our cost function to something we can evaluate with a quantum computer. To do this, we need to remind ourselves of the following components\n",
    "\\begin{equation*}\n",
    "|0\\rangle = \n",
    "    \\begin{bmatrix}\n",
    "    1\\\\\n",
    "    0\n",
    "    \\end{bmatrix} \n",
    "\\qquad \n",
    "|1\\rangle = \n",
    "    \\begin{bmatrix}\n",
    "    0\\\\\n",
    "    1\n",
    "    \\end{bmatrix} \n",
    "\\qquad \n",
    "Z = \n",
    "    \\begin{bmatrix}\n",
    "    1 & 0\\\\\n",
    "    0 & -1\n",
    "    \\end{bmatrix}  \n",
    "\\end{equation*}\n",
    "We can then start by writing our qubit register:\n",
    "\\begin{equation*}\n",
    "|v \\rangle = |v_0v_1v_2v_3... v_i...v_N \\rangle, \\qquad \\text{where} \\quad |v_i\\rangle \\in \\{|0\\rangle, |1\\rangle \\}\n",
    "\\end{equation*}\n",
    "\n",
    "Remember how the Pauli $Z_i$ matrix operates on a qubit register: \n",
    "\\begin{align*}\n",
    "Z_i |v_0v_1v_2v_3... v_i...v_N \\rangle = \n",
    "\\begin{cases}\n",
    "    +|v_0v_1v_2v_3... v_i...v_N \\rangle,              & \\text{if } v_i = 0 \\\\\n",
    "    -|v_0v_1v_2v_3... v_i...v_N \\rangle,              & \\text{if } v_i = 1\n",
    "\\end{cases}\n",
    "\\end{align*}\n",
    "This means that we can calculate the $Z_iZ_j$ expectation value as:\n",
    "\\begin{equation*}\n",
    "\\langle v|Z_iZ_j|v\\rangle = \n",
    "\\begin{cases}\n",
    "    +1,              & \\text{if } v_i = v_j \\\\\n",
    "    -1,              & \\text{if } v_i \\neq v_j\n",
    "\\end{cases}\n",
    "\\end{equation*}\n",
    "\n",
    "We can thus convert the cost function into energy operator or *Hamiltonian*:\n",
    "\\begin{equation*}\n",
    "H = \\frac{1}{2} \\sum_{i,j} \\big( 1- Z_i Z_j \\big)\n",
    "\\end{equation*}\n",
    "To see its resemblance to the cost function, we calculate the expectation value\n",
    "\\begin{equation*}\n",
    "\\langle v|H|v\\rangle = \\frac{1}{2} \\sum_{i,j} \\big(1- \\langle v | Z_i Z_j |v \\rangle \\big) = \\sum_{i,j} v_i \\wedge v_j\n",
    "\\end{equation*}\n",
    "This is exactly how we defined our cost function. But how does this help us to find the maximal cut? \n",
    "\n",
    "By minimizing the energy of the system (finding the smallest expectation value for the Hamiltonian), we can, with a high probability, find the system in a state $|v\\rangle = |v_0v_1v_2v_3... v_i...v_N \\rangle$, where the binary sequence $v_0v_1v_2v_3... v_i...v_N$ corresponds to the maximum cut!"
   ]
  },
  {
   "cell_type": "markdown",
   "metadata": {},
   "source": [
    "**Step 3: Python implementation of cost function** \n",
    "\n",
    "Below we implement functions for calculating the expectation value of Hamiltonian for some particular graph given the results for measured states. We will need these later when we process the measurements from our quantum job."
   ]
  },
  {
   "cell_type": "code",
   "execution_count": null,
   "metadata": {},
   "outputs": [],
   "source": [
    "# Utility function for calculating the (negative) value of cost function for given partition\n",
    "def maxcut_cost(bitstring, graph):\n",
    "    value = 0\n",
    "\n",
    "    # Qiskit return states (binaries) in reversed order\n",
    "    bitstring = bitstring[::-1]\n",
    "\n",
    "    for i, j in graph['edges']:\n",
    "        if bitstring[i] != bitstring[j]:                # If vertices are in different partitions\n",
    "            value += (-1)                               # Minimizing negative cost maximizes the cost function\n",
    "    return value\n",
    "\n",
    "# This function calculates the expectation value from the measured results\n",
    "def get_expval(counts, graph):\n",
    "    exp_value = 0\n",
    "    cost = 0\n",
    "    total_shots = 0\n",
    "    \n",
    "    for bitstring, count in counts.items():\n",
    "        cost += maxcut_cost(bitstring, graph) * count   # Calculate <|Z_i Z_j|>\n",
    "        total_shots += count                            # Total shots by summing all the counts\n",
    "    exp_value = cost/total_shots                        # Divide by total shots\n",
    "    return exp_value"
   ]
  },
  {
   "cell_type": "markdown",
   "metadata": {},
   "source": [
    "### III) Building the ansatz (Quantum part)\n",
    "\n",
    "We now proceed to construct the quantum circuit for solving the MaxCut problem. The circuit makes use of parametric rotation gates, and the goal is to find parameters that result in the minimum energy for the system.\n",
    "\n",
    "**Step 1:** Apply Hadamard gates to bring a system to equal superposition of all possible states\n",
    "\\begin{equation*}\n",
    "H^{\\otimes n} |00...0\\rangle = \\frac{|0\\rangle_0 + |0\\rangle_0}{\\sqrt{2}} \\frac{|0\\rangle_1 + |0\\rangle_1}{\\sqrt{2}} ... \\frac{|0\\rangle_n + |0\\rangle_n}{\\sqrt{2}}\n",
    "\\end{equation*}\n",
    "\n",
    "**Step 2:** We apply a layer consisting of two unitary operations mimicking the natural time evolution of the system Hamiltonian:\n",
    "\\begin{alignat*}{2}\n",
    "& U_C(\\gamma_l) = \\prod_{ (a,b) \\in \\text{ edges}} e^{-i \\gamma_l(1 - Z_j Z_k)/2} \\qquad    && \\textbf{Cost hamiltonian: } \\text{Combination of  parameterized Z-rotations and CNOT-gates} \\\\\n",
    "& U_B(\\beta_l) = \\prod_{ j \\in \\text{ vertices}} e^{-i X_j} \\qquad                          && \\textbf{Mixer hamiltonian: } \\text{Parameterized X-rotations}\n",
    "\\end{alignat*}\n",
    "Here, $U_C(\\gamma_l)$ creates the state corresponding to the Hamiltonian. The role of $U_B(\\beta_l)$ is to mix the state, which is important if our initial state happens to be the eigenstate of the Hamiltonian. \n",
    "The goal is to find parameters $\\gamma_l$ and $\\beta_l$ that minimize the cost Hamiltonian.\n",
    "\n",
    "**Step 3:** By adding more layers to the circuit, (repeating the previous step), we can increase the accuracy of the algorithm. The parameter `layers` dictates the number of layers in our circuit. Parameters for each layer, $\\gamma_l$ and $\\beta_l$, are stored in lists  `gammas` and `betas`"
   ]
  },
  {
   "cell_type": "code",
   "execution_count": null,
   "metadata": {},
   "outputs": [],
   "source": [
    "def Build_QAOA(graph, gammas, betas, layers):\n",
    "    # Allocate as many qubits as we have edges in the graph\n",
    "    num_qubits = len(graph['nodes'])\n",
    "    qc = QuantumCircuit(num_qubits, num_qubits)\n",
    "\n",
    "    # Equal superposition of all possible states\n",
    "    qc.h(range(num_qubits))\n",
    "\n",
    "    # Cost Hamiltonian\n",
    "    for i in range(layers):\n",
    "        for ab in graph['edges']:\n",
    "            qc.barrier()\n",
    "            qc.cx(ab[0], ab[1])\n",
    "            qc.rz(0.5*gammas[i], ab[1])\n",
    "            qc.cx(ab[0], ab[1])\n",
    "            \n",
    "        # Mixer Hamiltonian\n",
    "        qc.barrier()    # Add barrier for nicer visualization\n",
    "        qc.rx(betas[i], range(num_qubits))\n",
    "        \n",
    "    # Measure all qubits\n",
    "    qc.measure(range(num_qubits), range(num_qubits))\n",
    "    return qc"
   ]
  },
  {
   "cell_type": "markdown",
   "metadata": {},
   "source": [
    "We can visualize the circuit to see what we are dealing with. Below, you can try to change the angles and amount of layers to see what the circuit looks like. Remember to put to parameters as many angles as there are layers."
   ]
  },
  {
   "cell_type": "code",
   "execution_count": null,
   "metadata": {},
   "outputs": [],
   "source": [
    "QAOA_circuit = Build_QAOA(graph, gammas = [1.0], betas=[2.0] , layers=1)\n",
    "QAOA_circuit.draw('mpl', style='clifford')"
   ]
  },
  {
   "cell_type": "markdown",
   "metadata": {},
   "source": [
    "Let's now try to run the circuit. We start with the ideal `Aer` simulator"
   ]
  },
  {
   "cell_type": "code",
   "execution_count": null,
   "metadata": {},
   "outputs": [],
   "source": [
    "backend_simulator = Aer.get_backend('statevector_simulator')"
   ]
  },
  {
   "cell_type": "markdown",
   "metadata": {},
   "source": [
    "The most measured state represents the cut, and by calculating the expectation value, we can estimate the corresponding cost function"
   ]
  },
  {
   "cell_type": "code",
   "execution_count": null,
   "metadata": {},
   "outputs": [],
   "source": [
    "QAOA_counts = backend_simulator.run(QAOA_circuit, shots=1000).result().get_counts()\n",
    "H_expval = get_expval(QAOA_counts, graph)\n",
    "\n",
    "print(f\"Hamiltonian expection value: {H_expval}\")\n",
    "print(f\"The most measured state: {max(QAOA_counts, key=QAOA_counts.get)}\")\n",
    "plot_histogram(QAOA_counts)"
   ]
  },
  {
   "cell_type": "markdown",
   "metadata": {},
   "source": [
    "We saw that our initial choice of parameters does not always yield the correct solution for MaxCut. We need a way to optimize the circuit parameters such that we get a correct result."
   ]
  },
  {
   "cell_type": "markdown",
   "metadata": {},
   "source": [
    "### IV) Optimizing the circuit parameters (Classical part)\n"
   ]
  },
  {
   "cell_type": "markdown",
   "metadata": {},
   "source": [
    "The next step of QAOA is to implement and run the loop that will optimize the parameters $\\gamma_l$ and $\\beta_l$. If the circuit has multiple layers, we will have arrays with elements $\\gamma_0,\\gamma_1,\\gamma_2...$ and $\\beta_0,\\beta_1,\\beta_2...$. \n",
    "\n",
    "To perform the optimization, we use a minimizer because we want to find the circuit parameters that give the state with the least energy.\n",
    "\n",
    "First, we need to construct a Python function, which we minimize. This function `run_QAOA` takes input parameters to be optimized as a concatenated list. It then constructs the circuit, runs it, calculates, and returns the expectation value.\n",
    "\n",
    "To easily pass other parameters; `graph`, `backend`, `shots`, and `layers`, we use nested functions. "
   ]
  },
  {
   "cell_type": "code",
   "execution_count": null,
   "metadata": {},
   "outputs": [],
   "source": [
    "expval_list = []    # We save all the expections values to plot them later\n",
    "\n",
    "# Outer function\n",
    "def get_QAOA_func(graph, backend, shots, layers):\n",
    "    expval_list.clear()\n",
    "\n",
    "    # Inner function, this we want to optimize\n",
    "    def run_QAOA(angles):\n",
    "\n",
    "        # Gat parameters are concantenated lists\n",
    "        gammas = angles[:layers]\n",
    "        betas = angles[layers:]\n",
    "\n",
    "        # Build circuit\n",
    "        qc = Build_QAOA(graph, gammas, betas, layers)\n",
    "\n",
    "        # Transpile and run\n",
    "        qc_transpiled = transpile(qc, backend)\n",
    "        counts = backend.run(qc_transpiled, shots=shots).result().get_counts()\n",
    "        \n",
    "        # Calculate expectation value and save it\n",
    "        expval = get_expval(counts, graph)\n",
    "        expval_list.append(expval)\n",
    "        return expval\n",
    "    \n",
    "    return run_QAOA"
   ]
  },
  {
   "cell_type": "markdown",
   "metadata": {},
   "source": [
    "Now that we have our function, we need to set up a classical optimizer. We choose `scipy.optimize.minimize` and use the COBYLA method. For good results, we need to set a small enough tolerance and do a sufficient amount of iterations. We also need initial guesses for parameters, which we pass to the optimizer.\n",
    "\n",
    "Below we implement a function for the optimization process."
   ]
  },
  {
   "cell_type": "code",
   "execution_count": null,
   "metadata": {},
   "outputs": [],
   "source": [
    "def optimize_QAOA(graph, backend, shots, iterations, layers, method):\n",
    "\n",
    "    # Get the function we will optimize, which is \"run_QAOA\", returned by \"get_QAOA_func\"\n",
    "    func = get_QAOA_func(graph=graph, backend=backend, shots=shots, layers=layers)\n",
    "\n",
    "    # Initial parameters\n",
    "    gamma_0 = 3.147\n",
    "    beta_0 = 3.147\n",
    "    x0 = [gamma_0 for i in range(layers)] + [beta_0 for i in range(layers)]\n",
    "\n",
    "    # Minimize the function using scipy minimizer\n",
    "    results = minimize(fun=func, x0=x0, method=method, tol=1e-2, options={\"maxiter\":iterations})\n",
    "\n",
    "    return results"
   ]
  },
  {
   "cell_type": "markdown",
   "metadata": {},
   "source": [
    "We can now perform the optimization and print the results. Let's do this for one layer.\n",
    "\n",
    "When successful, our optimizer returns the parameters for angles that give results for minimum energy.\n",
    "\n",
    "Importantly, we can now check whether the optimization was successful i.e. whether the final energy result converges to a specific value. We do this by plotting all the values from `expval_list` as a function of optimizer iterations"
   ]
  },
  {
   "cell_type": "code",
   "execution_count": null,
   "metadata": {
    "scrolled": true
   },
   "outputs": [],
   "source": [
    "# Perform optimization and get the results\n",
    "result = optimize_QAOA(graph, backend_simulator, shots=10000, iterations=150, layers=1, method='COBYLA')\n",
    "\n",
    "# We can access the information about the optimization process and print it\n",
    "minimum_energy = result.fun\n",
    "optimal_gammas = result.x[:1]\n",
    "optimal_betas = result.x[1:]\n",
    "\n",
    "print(f\"\\n {result} \\n\")\n",
    "print(f\"Minimum energy: {minimum_energy}\")\n",
    "print(f\"Optimal gamma: {optimal_gammas}\")\n",
    "print(f\"Optimal beta: {optimal_betas}\")\n",
    "\n",
    "# Visualize energy\n",
    "plt.plot(list(range(len(expval_list))), expval_list)\n",
    "plt.title(\"Minimizing the energy\")\n",
    "plt.xlabel(\"Iterations\")\n",
    "plt.ylabel(\"Energy\")\n",
    "plt.show()"
   ]
  },
  {
   "cell_type": "markdown",
   "metadata": {},
   "source": [
    "### V) Retrieving the maximum cut\n",
    "Remember that our goal in MaxCut was to partition the vertices (represented by qubits) into two subgraphs such that the number of cut edges is maximized. \n",
    "\n",
    "Qubits belonging to different subgraphs will have opposite measurement outcomes. We find this information by measuring our circuit on a computational basis.\n",
    "\n",
    "With our optimized parameters `optimal_gammas` and `optimal_betas`, we can run QAOA ansatz once more and retrieve an optimal statevector.\n"
   ]
  },
  {
   "cell_type": "code",
   "execution_count": null,
   "metadata": {
    "scrolled": true
   },
   "outputs": [],
   "source": [
    "QAOA_optimal = Build_QAOA(graph=graph, gammas=optimal_gammas, betas=optimal_betas, layers=1)\n",
    "QAOA_optimal_transpiled = transpile(QAOA_optimal, backend_simulator)\n",
    "result_optimal = backend_simulator.run(QAOA_optimal_transpiled, shots=10000).result()\n",
    "counts_optimal = result_optimal.get_counts()\n",
    "\n",
    "most_probable_solution = max(counts_optimal, key=counts_optimal.get) # find the key i.e. state that has maximum probability\n",
    "print(\"-------------------------------\")\n",
    "print(\"The most probable solutions is\")\n",
    "print(most_probable_solution)\n",
    "\n",
    "plot_histogram(counts_optimal)"
   ]
  },
  {
   "cell_type": "markdown",
   "metadata": {},
   "source": [
    "Now the result, represented by the most probable state, should be correct.\n",
    "\n",
    "We can print the nodes in both subgraphs"
   ]
  },
  {
   "cell_type": "code",
   "execution_count": null,
   "metadata": {},
   "outputs": [],
   "source": [
    "## We need to extract the indices of the 0 and 1 partitions\n",
    "\n",
    "# Reverse qiskit style counts\n",
    "most_probable_solution = most_probable_solution[::-1]\n",
    "\n",
    "print(f\"Solution configuration: \\n{most_probable_solution}\\n\")\n",
    "\n",
    "indices_0 = [i for i, value in enumerate(most_probable_solution) if value == '0'] # build array holding the indices of 0's in the solution confiquration\n",
    "print(f\"The nodes in the first subgraph: \\n{indices_0} \\n\")\n",
    "\n",
    "indices_1 = [i for i, value in enumerate(most_probable_solution) if value == '1'] # build array holding the indices of 1's in the solution confiquration\n",
    "print(f\"The nodes in the second subgraph: \\n{indices_1}\")"
   ]
  },
  {
   "cell_type": "markdown",
   "metadata": {},
   "source": [
    "Let's finally create a visualization of our solution to the MaxCut problem."
   ]
  },
  {
   "cell_type": "code",
   "execution_count": null,
   "metadata": {},
   "outputs": [],
   "source": [
    "## Here we visualize the solution of the MaxCut problem. \n",
    "\n",
    "nx.draw(G,                # the nodes of '0'-partition will be colored blue  \n",
    "                 pos=pos, \n",
    "                 with_labels=True,\n",
    "                 nodelist=indices_0, \n",
    "                 node_color='blue')\n",
    "\n",
    "nx.draw(G,                # the nodes of '1'-partition will be colored red\n",
    "                 pos=pos, \n",
    "                 with_labels=True,\n",
    "                 nodelist=indices_1, \n",
    "                 node_color='red')\n",
    " \n",
    "ax = plt.gca()\n",
    "plt.show()"
   ]
  },
  {
   "cell_type": "markdown",
   "metadata": {},
   "source": [
    "# Extra:"
   ]
  },
  {
   "cell_type": "markdown",
   "metadata": {},
   "source": [
    "## Exercise 1: Adding more layers\n",
    "\n",
    "Increasing the number of layers to the QAOA circuit increases the accuracy of the algorithm. "
   ]
  },
  {
   "cell_type": "code",
   "execution_count": null,
   "metadata": {},
   "outputs": [],
   "source": [
    "# You can change the parameters to see how it affects the result\n",
    "num_layers = 3      # Layers in QAOA circuit\n",
    "\n",
    "# Perform optimization and get the results\n",
    "result_1 = optimize_QAOA(graph, backend_simulator, shots=10000, iterations=250, layers=num_layers, method='COBYLA')\n",
    "\n",
    "# We can access the information about the optimization process and print it\n",
    "minimum_energy_1 = result_1.fun\n",
    "optimal_gammas_1 = result_1.x[:num_layers]\n",
    "optimal_betas_1 = result_1.x[num_layers:]\n",
    "\n",
    "print(f\"\\n {result_1} \\n\")\n",
    "print(f\"Minimum energy: {minimum_energy_1}\")\n",
    "print(f\"Optimal gamma: {optimal_gammas_1}\")\n",
    "print(f\"Optimal beta: {optimal_betas_1}\")\n",
    "\n",
    "plt.plot(list(range(len(expval_list))), expval_list)\n",
    "plt.title(\"Minimizing the energy\")\n",
    "plt.xlabel(\"Iterations\")\n",
    "plt.ylabel(\"Energy\")\n",
    "plt.show()"
   ]
  },
  {
   "cell_type": "code",
   "execution_count": null,
   "metadata": {},
   "outputs": [],
   "source": [
    "QAOA_optimal_1 = Build_QAOA(graph=graph, gammas=optimal_gammas_1, betas=optimal_betas_1, layers=num_layers)\n",
    "counts_optimal_1 = backend_simulator.run(QAOA_optimal_1, shots=10000).result().get_counts()\n",
    "\n",
    "most_probable_solution_1 = max(counts_optimal_1, key=counts_optimal_1.get) # find the key i.e. state that has maximum probability\n",
    "print(\"-------------------------------\")\n",
    "print(\"The most probable solutions is\")\n",
    "print(most_probable_solution_1)\n",
    "\n",
    "plot_histogram(counts_optimal_1)"
   ]
  },
  {
   "cell_type": "code",
   "execution_count": null,
   "metadata": {},
   "outputs": [],
   "source": [
    "## We need to extract the indices of the 0 and 1 partitions\n",
    "\n",
    "# Reverse qiskit style counts\n",
    "most_probable_solution_1 = most_probable_solution_1[::-1]\n",
    "\n",
    "print(f\"Solution configuration: \\n{most_probable_solution_1}\\n\")\n",
    "\n",
    "indices_0 = [i for i, value in enumerate(most_probable_solution_1) if value == '0'] # build array holding the indices of 0's in the solution confiquration\n",
    "print(f\"The nodes in the first subgraph: \\n{indices_0} \\n\")\n",
    "\n",
    "indices_1 = [i for i, value in enumerate(most_probable_solution_1) if value == '1'] # build array holding the indices of 1's in the solution confiquration\n",
    "print(f\"The nodes in the second subgraph: \\n{indices_1}\")\n",
    "\n",
    "\n",
    "## Here we visualize the solution of the MaxCut problem. \n",
    "\n",
    "nx.draw(G,                # the nodes of '0'-partition will be colored blue  \n",
    "                 pos=pos, \n",
    "                 with_labels=True,\n",
    "                 nodelist=indices_0, \n",
    "                 node_color='blue')\n",
    "\n",
    "nx.draw(G,                # the nodes of '1'-partition will be colored red\n",
    "                 pos=pos, \n",
    "                 with_labels=True,\n",
    "                 nodelist=indices_1, \n",
    "                 node_color='red')\n",
    " \n",
    "ax = plt.gca()\n",
    "plt.show()"
   ]
  },
  {
   "cell_type": "markdown",
   "metadata": {},
   "source": [
    "## Exercise 2: Different classical optimizers\n",
    "\n",
    "Select optimization methods from the some of the available ones:\n",
    "\n",
    "        - 'Nelder-Mead'\n",
    "        - 'Powell'      \n",
    "        - 'CG'          \n",
    "        - 'BFGS'          \n",
    "        - 'L-BFGS-B'    \n",
    "        - 'TNC'         \n",
    "        - 'COBYLA'      \n",
    "        - 'SLSQP'       \n",
    "        - 'trust-constr'\n",
    "and pass them as parameters. See how this affects the minimization of energy. You will see that some methods work better than others."
   ]
  },
  {
   "cell_type": "code",
   "execution_count": null,
   "metadata": {},
   "outputs": [],
   "source": [
    "# You can change the parameters to see how it affects the result\n",
    "num_layers_2 = 1      # Layers in QAOA circuit\n",
    "\n",
    "# Try different optimizers by uncommenting\n",
    "#-------------------------------------\n",
    "#optimizer_method = 'Nelder-Mead'\n",
    "optimizer_method = 'Powell'\n",
    "#optimizer_method = 'CG'\n",
    "#optimizer_method = 'BFGS'\n",
    "#optimizer_method = 'L-BFGS-B'\n",
    "#optimizer_method = 'TNC'\n",
    "#optimizer_method = 'COBYLA'\n",
    "#optimizer_method = 'SLSQP'\n",
    "#optimizer_method = 'trust-constr'\n",
    "#-------------------------------------\n",
    "\n",
    "# Perform optimization and get the results\n",
    "result_2 = optimize_QAOA(graph, backend_simulator, shots=1000, iterations=250, layers=num_layers_2, method=optimizer_method)\n",
    "\n",
    "# We can access the information about the optimization process and print it\n",
    "minimum_energy_2 = result_2.fun\n",
    "optimal_gammas_2 = result_2.x[:num_layers_2]\n",
    "optimal_betas_2 = result_2.x[num_layers_2:]\n",
    "\n",
    "print(f\"\\n {result_2} \\n\")\n",
    "print(f\"Minimum energy: {minimum_energy_2}\")\n",
    "print(f\"Optimal gamma: {optimal_gammas_2}\")\n",
    "print(f\"Optimal beta: {optimal_betas_2}\")\n",
    "\n",
    "plt.plot(list(range(len(expval_list))), expval_list)\n",
    "plt.title(\"Minimizing the energy\")\n",
    "plt.xlabel(\"Iterations\")\n",
    "plt.ylabel(\"Energy\")\n",
    "plt.show()"
   ]
  },
  {
   "cell_type": "code",
   "execution_count": null,
   "metadata": {},
   "outputs": [],
   "source": [
    "QAOA_optimal_2 = Build_QAOA(graph=graph, gammas=optimal_gammas_2, betas=optimal_betas_2, layers=num_layers_2)\n",
    "counts_optimal_2 = backend_simulator.run(QAOA_optimal_2, shots=1000).result().get_counts()\n",
    "\n",
    "most_probable_solution_2 = max(counts_optimal_2, key=counts_optimal_2.get) # find the key i.e. state that has maximum probability\n",
    "print(\"-------------------------------\")\n",
    "print(\"The most probable solutions is\")\n",
    "print(most_probable_solution_2)\n",
    "\n",
    "plot_histogram(counts_optimal_2)"
   ]
  },
  {
   "cell_type": "code",
   "execution_count": null,
   "metadata": {},
   "outputs": [],
   "source": [
    "## We need to extract the indices of the 0 and 1 partitions\n",
    "\n",
    "# Reverse qiskit style counts\n",
    "most_probable_solution_2 = most_probable_solution_2[::-1]\n",
    "\n",
    "print(f\"Solution configuration: \\n{most_probable_solution_2}\\n\")\n",
    "\n",
    "indices_0 = [i for i, value in enumerate(most_probable_solution_2) if value == '0'] # build array holding the indices of 0's in the solution confiquration\n",
    "print(f\"The nodes in the first subgraph: \\n{indices_0} \\n\")\n",
    "\n",
    "indices_1 = [i for i, value in enumerate(most_probable_solution_2) if value == '1'] # build array holding the indices of 1's in the solution confiquration\n",
    "print(f\"The nodes in the second subgraph: \\n{indices_1}\")\n",
    "\n",
    "\n",
    "## Here we visualize the solution of the MaxCut problem. \n",
    "\n",
    "nx.draw(G,                # the nodes of '0'-partition will be colored blue  \n",
    "                 pos=pos, \n",
    "                 with_labels=True,\n",
    "                 nodelist=indices_0, \n",
    "                 node_color='blue')\n",
    "\n",
    "nx.draw(G,                # the nodes of '1'-partition will be colored red\n",
    "                 pos=pos, \n",
    "                 with_labels=True,\n",
    "                 nodelist=indices_1, \n",
    "                 node_color='red')\n",
    " \n",
    "ax = plt.gca()\n",
    "plt.show()"
   ]
  },
  {
   "cell_type": "markdown",
   "metadata": {},
   "source": [
    "## Takeaway\n",
    "\n",
    "In this notebook, we have learned about:\n",
    "   + What is MaxCut problem\n",
    "   + Defining the cost function for MaxCut\n",
    "   + Converting the cost function to quantum Hamiltonian describing energy landscape\n",
    "   + Building QAOA ansatz using qiskit\n",
    "   + Determining the parameters of the QAOA circuit with classical optimizer\n",
    "   + Result readout\n",
    "\n",
    "You can go back to the start and define your own graph to see how the algorithm works for different graphs."
   ]
  }
 ],
 "metadata": {
  "kernelspec": {
   "display_name": "Python 3",
   "language": "python",
   "name": "python3"
  },
  "language_info": {
   "codemirror_mode": {
    "name": "ipython",
    "version": 3
   },
   "file_extension": ".py",
   "mimetype": "text/x-python",
   "name": "python",
   "nbconvert_exporter": "python",
   "pygments_lexer": "ipython3",
   "version": "3.11.8"
  }
 },
 "nbformat": 4,
 "nbformat_minor": 2
}
