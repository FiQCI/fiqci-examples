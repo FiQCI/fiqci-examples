{
 "cells": [
  {
   "cell_type": "markdown",
   "metadata": {},
   "source": [
    "# 03: Transpilation of quantum circuits\n",
    "\n",
    "In this hands-on exercise, we show more in detail how the circuit transpilation works. As we have notices, Qiskit `Aer` simulator has universal connectivity between all qubits and can execute all kinds of quantum gates.\n",
    "In a real QPU, connectivity of qubits is often limited to its nearest neighbors, it only has a small number of native operations at its disposal. \n",
    "\n",
    "In this notebook, we build a circuit that creates a 5-qubit GHZ state (Greenberger–Horne–Zeilinger). This circuit requires creating entanglement between all 5 qubits. We map this circuit to Helmi quantum computers' 5-qubit topology and show the difference between suboptimal and optimal transpilation\n",
    "\n",
    "We once again start by importing everything we need"
   ]
  },
  {
   "cell_type": "code",
   "execution_count": null,
   "metadata": {},
   "outputs": [],
   "source": [
    "from qiskit import QuantumCircuit, transpile\n",
    "from qiskit_aer import Aer\n",
    "from qiskit.visualization import plot_histogram\n",
    "from iqm.qiskit_iqm import IQMProvider\n",
    "import os"
   ]
  },
  {
   "attachments": {
    "helmi_mapping.png": {
     "image/png": "[encoded data removed]"
    }
   },
   "cell_type": "markdown",
   "metadata": {},
   "source": [
    "## Helmi Quantum computer\n",
    "\n",
    "Helmi is the Finnish 5-qubit quantum computer and part of the FiQCI (Finnish Quantum Computing Infrastructure) ecosystem. It is co-developed by VTT and IQM. \n",
    "\n",
    "The QPU architecture is called Adonis by IQM, and it features superconducting transmon qubits in a star-shaped topology.\n",
    "\n",
    "\n",
    "![helmi_mapping.png](attachment:helmi_mapping.png)\n",
    "\n",
    "We see that in the star topology of Helmi, QB3 is the central qubit and is connected to outer qubits (QB1, QB2, QB4, QB5) using four couplings. This means that when executing 2-qubit gates, we can only use qubits that are connected to one of these four couplings. Connecting qubits further away requires applying additional quantum gates.\n",
    "\n",
    "\n",
    "Next, retrieve the backend for Helmi. We have already used the Helmi quantum computer during the first day of the course, so let's follow the same routine.\n",
    "In the following cell, uncomment lines based on whether you want to use real Helmi or Helmi simulator `IQMFakeAdonis`"
   ]
  },
  {
   "cell_type": "code",
   "execution_count": null,
   "metadata": {},
   "outputs": [],
   "source": [
    "## Helmi Quantum Computer------------------------------\n",
    "HELMI_CORTEX_URL = os.getenv('HELMI_CORTEX_URL')\n",
    "provider = IQMProvider(HELMI_CORTEX_URL)\n",
    "backend_helmi = provider.get_backend()\n",
    "##-----------------------------------------------------\n",
    "\n",
    "## Helmi Simulator-------------------------------------\n",
    "#from iqm.qiskit_iqm import IQMFakeAdonis\n",
    "#backend_helmi = IQMFakeAdonis()\n",
    "##-----------------------------------------------------\n",
    "\n",
    "print(backend_helmi)"
   ]
  },
  {
   "cell_type": "markdown",
   "metadata": {},
   "source": [
    "From the backend, we can retrieve useful information about the Helmi and print it"
   ]
  },
  {
   "cell_type": "code",
   "execution_count": null,
   "metadata": {},
   "outputs": [],
   "source": [
    "helmi_num_qubits = backend_helmi.num_qubits     # Number of qubits\n",
    "helmi_couplings = backend_helmi.coupling_map       # Coupling map\n",
    "helmi_gates = backend_helmi.operation_names     # Native gates\n",
    "helmi_qubit_names = [backend_helmi.index_to_qubit_name(i) for i in range(helmi_num_qubits)]     # We can convert indices to IQM-style qubit names \n",
    "\n",
    "print(f\"Backend: {backend_helmi.name}\")\n",
    "print(f\"Number of qubits: {helmi_num_qubits}\")\n",
    "print(f\"Qubit names: {helmi_qubit_names}\")\n",
    "print(f\"Coupling map: {helmi_couplings}\")\n",
    "print(f\"Native gates: {helmi_gates}\")"
   ]
  },
  {
   "cell_type": "markdown",
   "metadata": {},
   "source": [
    "The IQM-style naming convention for qubits is [QB1, QB2, QB3, QB4, QB5], which in Qiskit indexing corresponds to [0, 1, 2, 3, 4]. When programming your own quantum circuits, it is usually preferred to use Qiskit's naming convention. \n",
    "\n",
    "The coupling map is formatted as a list. We see that each connection in the list twice as the coupling works in two ways.\n",
    "\n",
    "Finally, we see that the Helmi backend supports the following operations\n",
    "+ `id`: Identity gate. Note that despite being listed, this is not actually a gate but simply corresponds to the absence of a gate\n",
    "+ `r`: Single-qubit R-Gate. Parameterized rotation gate for any rotation on 3D-Bloch sphere\n",
    "+ `cz`: 2-qubit controlled Z-gate. Flips the phase of the target qubit if the control qubit is state $|1\\rangle$\n",
    "+ `measure`: Measures qubit in computational basis\n",
    "\n",
    "Now we need a quantum circuit which we can transpile"
   ]
  },
  {
   "cell_type": "markdown",
   "metadata": {},
   "source": [
    "## GHZ-state (Greenberger–Horne–Zeilinger state)\n",
    "\n",
    "Starting from the initial state $|00...0\\rangle$, and applying one Hadamard gate H and multiple CNOT gates, we can create a maximal entanglement of two quantum states, a system GHZ-state:\n",
    "\\begin{equation*}\n",
    "|\\text{GHZ} \\rangle = \\frac{ |00...0\\rangle + |11...1\\rangle }{\\sqrt{2}}\n",
    "\\end{equation*}\n",
    "\n",
    "Let's now build our 5-qubit GHZ circuit"
   ]
  },
  {
   "cell_type": "code",
   "execution_count": null,
   "metadata": {},
   "outputs": [],
   "source": [
    "# Allocate 5 qubits\n",
    "qc = QuantumCircuit(5,5)\n",
    "\n",
    "# Apply Hadamard gate to the first qubit to bring it in superposition\n",
    "qc.h(0)\n",
    "\n",
    "# Apply CNOT-gates to create entangled state\n",
    "qc.cx(0,1)\n",
    "qc.cx(0,2)\n",
    "qc.cx(0,3)\n",
    "qc.cx(0,4)\n",
    "\n",
    "# Add measurements to all qubits\n",
    "qc.barrier()\n",
    "qc.measure(range(5), range(5))\n",
    "\n",
    "\n",
    "# Visualize\n",
    "qc.draw('mpl', style=\"clifford\")"
   ]
  },
  {
   "cell_type": "markdown",
   "metadata": {},
   "source": [
    "Let's test running our GHZ-circuit at first with `Aer` simulator to see that it works as intended"
   ]
  },
  {
   "cell_type": "code",
   "execution_count": null,
   "metadata": {},
   "outputs": [],
   "source": [
    "# Retrieve backend\n",
    "backend_simulator = Aer.get_backend('statevector_simulator')\n",
    "\n",
    "# Run circuit\n",
    "counts = backend_simulator.run(qc, shots=10000).result().get_counts()\n",
    "\n",
    "# Print results\n",
    "for sample in counts:\n",
    "    print(f\"Measurement: {sample}, Hits: {counts[sample]}, Probability: {counts[sample]/10000}\")"
   ]
  },
  {
   "cell_type": "markdown",
   "metadata": {},
   "source": [
    "## Explicit transpilation\n",
    "\n",
    "Now we show, how one maps a circuit to a certain backend using Qiskit's `transpile` method. This is necessary when using real QPUs and simulators, which do not have universal connectivity or access to a universal set of quantum gates. In earlier examples, we did the transpilation by passing the backend as a parameter to the `transpile` method, in which case the method automatically fetches all the required information. However, we will now do this in a more explicit way to showcase the process in detail."
   ]
  },
  {
   "cell_type": "markdown",
   "metadata": {},
   "source": [
    "## `Transpile` in Qiskit\n",
    "\n",
    "Rewrites circuit to match a topology of specific QPU, and optimizes it to reduce circuit depth and the effects of noise.\n",
    "\n",
    "In our example, we will first use the following parameters\n",
    "+ `QuantumCircuit`: The circuit we wish to transpile\n",
    "+ `basis_gates`: Native operations of the backend\n",
    "+ `coupling_map`: Couplings on the QPU\n",
    "+ `initial_layout`: Mapping of the virtual qubits of `QuantumCircuit` to the physical qubits of the QPU\n",
    "\n",
    "We will now use `transpile` to map our 5-qubit QHZ-circuit to Helmi, using different choices for `initial_layout`."
   ]
  },
  {
   "cell_type": "markdown",
   "metadata": {},
   "source": [
    "### Default layout\n",
    "\n",
    "Starting off with ordered one-to-one mapping from virtual qubits to physical qubits:\n",
    "$ [q_0, q_1, q_2, q_3, q_4] \\rightarrow $ [QB1, QB2, QB3, QB4, QB5]\n",
    "\n",
    "Let's transpile and print the circuit."
   ]
  },
  {
   "cell_type": "code",
   "execution_count": null,
   "metadata": {},
   "outputs": [],
   "source": [
    "qc_transpiled_1 = transpile(qc, basis_gates=helmi_gates, coupling_map=helmi_couplings, initial_layout=[0,1,2,3,4])\n",
    "qc_transpiled_1.draw('mpl', style=\"clifford\")"
   ]
  },
  {
   "cell_type": "markdown",
   "metadata": {},
   "source": [
    "On the left side of the circuit visualization, Qiskit displays the mapping (eg. $q_0 \\rightarrow 0$), which was determined by passing the `initial_layout` parameter. All the gates in the circuit are also in line with the native gates (`r` and `cz`)\n",
    "\n",
    "However, we see that we now have more 2-qubit operations (seven CZ gates) than what we started with (four CNOT gates). This is because the transpiler added swap gates to overcome the limited coupling.\n",
    "\n",
    "Next, we leverage the star topology to determine a qubit layout that allows the transpilation to be done in a more optimized manner."
   ]
  },
  {
   "cell_type": "markdown",
   "metadata": {},
   "source": [
    "### Optimal layout\n",
    "\n",
    "**Goal:** Your task is to figure out a layout that is optimal for the circuit transpilation. Fill in the answer as a list in the cell below\n",
    "\n",
    "**Hint:** Compare the image of the Helmi qubit layout and the un-transpiled GHZ-circuit. Can you use the central qubit for the CNOT-gates?"
   ]
  },
  {
   "cell_type": "code",
   "execution_count": null,
   "metadata": {},
   "outputs": [],
   "source": [
    "# Fill your answer here------\n",
    "initial_layout = ['X', 'X', 'X', 'X', 'X']\n",
    "#----------------------------\n",
    "\n",
    "qc_transpiled_2 = transpile(qc, basis_gates=helmi_gates, coupling_map=helmi_couplings, initial_layout=initial_layout)\n",
    "qc_transpiled_2.draw('mpl', style=\"clifford\")"
   ]
  },
  {
   "cell_type": "markdown",
   "metadata": {},
   "source": [
    "If you choose the correct layout, the circuit will only contain four CZ gates\n",
    "\n",
    "Let's run our transpiled circuit on Helmi to see if it works as intended. Some errors are to be expected, as Helmi is a real, noisy quantum computer"
   ]
  },
  {
   "cell_type": "code",
   "execution_count": null,
   "metadata": {},
   "outputs": [],
   "source": [
    "# Run circuit\n",
    "counts_helmi = backend_helmi.run(qc_transpiled_2, shots=1000).result().get_counts()\n",
    "\n",
    "# Plot results\n",
    "plot_histogram(counts_helmi)"
   ]
  },
  {
   "cell_type": "markdown",
   "metadata": {},
   "source": [
    "## More transpilation options\n",
    "\n",
    "Qiskit's `transpile` offers a number of options for transpilation that we haven't used so far. Many of these affect how qiskit automatically tries to find the most optimal layout. For example, `layout_method` specifies how the transpiler attempts to map virtual qubits to physical qubits, taking into account the qubit connections and, if it has the information, the QPU noise profile. Then, `routing_method` tells how the transpiler tries to insert SWAP gates into the circuit in the most optimal way.\n",
    "\n",
    "Without going too much into the details, we show an easy way to adjust the transpilation of quantum circuits by passing the parameter `optimization_level` to the `transpile` method.\n",
    "\n",
    "`optimization_level` is an optional parameter that is passed as an integer:\n",
    "+ `0`: No optimization\n",
    "+ `1`: Light optimization (Default option)\n",
    "+ `2`: Heavy optimization\n",
    "+ `3`: Heavier optimization\n",
    "\n",
    "Changing the level of optimization automatically affects transpiler methods such as `layout_method` and `routing_method`.\n",
    "Generally, a higher level of optimization aims to make the circuit more resistant to noise if possible, but is also more computationally expensive and thus takes longer.\n",
    "\n",
    "Below, you can try out different levels of optimization, to see how it affects our GHZ-circuit, without us giving the `initial_layout` \n",
    "\n",
    "**Note 1:** Our GHZ circuit is very simple, so we don't really see the difference between light, heavy, and heavier optimization levels\n",
    "\n",
    "**Note 2:** Qiskit transpiler uses stochastic methods, so the circuit won't always be exactly the same. This can be changed by passing the parameter `seed_transpiler`"
   ]
  },
  {
   "cell_type": "code",
   "execution_count": null,
   "metadata": {},
   "outputs": [],
   "source": [
    "# Fill your answer here------\n",
    "optimization_level = 0\n",
    "#----------------------------\n",
    "\n",
    "qc_transpiled_3 = transpile(qc, basis_gates=helmi_gates, coupling_map=helmi_couplings, optimization_level=optimization_level)\n",
    "qc_transpiled_3.draw('mpl', style=\"clifford\")"
   ]
  },
  {
   "cell_type": "markdown",
   "metadata": {},
   "source": [
    "## Optimal circuit design is important\n",
    "\n",
    "So far, we have shown that Qiskits' `transpile` method tries to find the best way to map the quantum circuit to physical QPU. This includes mapping virtual qubits to physical qubits, conversion of quantum gates to native gates of the hardware, and optimal insertion of SWAP gates to make up the limited connectivity. The important thing to notice is that transpilation does not re-route the 2-qubit gates, but inserts SWAP gates to implement any gate you instructed it to do. This is where it becomes important to design circuits in a hardware-aware way.\n",
    "\n",
    "Let's demonstrate this again with GHZ-state, but this time we apply gates differently.\n",
    "\n",
    "Complete the following cells, by creating GHZ-state, but assign CNOTs in such way that control qubit is different for all gates. Then run the circuit with `Aer` simulator to check your measurements match the state\n",
    "\n",
    "\\begin{equation*}\n",
    "|\\text{GHZ} \\rangle = \\frac{ |00...0\\rangle + |11...1\\rangle }{\\sqrt{2}}\n",
    "\\end{equation*}"
   ]
  },
  {
   "cell_type": "code",
   "execution_count": null,
   "metadata": {},
   "outputs": [],
   "source": [
    "# 1. TODO: Allocate 5 qubits\n",
    "#qc_2 = \n",
    "\n",
    "# 2. TODO: Apply Hadamard gate to the first qubit\n",
    "\n",
    "# 3. TODO: Apply 4 CNOT gates in following way: cx(0,1), cx(1,2), ...\n",
    "\n",
    "# 4. TODO: Measure all qubits\n",
    "\n",
    "\n",
    "# qc_2.draw('mpl', style=\"clifford\")"
   ]
  },
  {
   "cell_type": "code",
   "execution_count": null,
   "metadata": {},
   "outputs": [],
   "source": [
    "# TODO: Simulate circuit with Aer simulator and print results"
   ]
  },
  {
   "cell_type": "markdown",
   "metadata": {},
   "source": [
    "Next, keeping in mind that the transpiler does not reassign control and target qubits relative to each other, let's transpile our circuit for Helmi\n",
    "\n",
    "In the following two cells, you will transpile our new GHZ circuit for helmi and run it"
   ]
  },
  {
   "cell_type": "code",
   "execution_count": null,
   "metadata": {},
   "outputs": [],
   "source": [
    "# TODO: Trasnpile circuit to helmi using some of the methods showed earlier\n",
    "# qc_transpiled_4 = \n",
    "\n",
    "\n",
    "# qc_transpiled_4.draw('mpl', style=\"clifford\")"
   ]
  },
  {
   "cell_type": "code",
   "execution_count": null,
   "metadata": {},
   "outputs": [],
   "source": [
    "# TODO: Run circuit with Helmi and visualize result using plot_histogram()"
   ]
  },
  {
   "cell_type": "markdown",
   "metadata": {},
   "source": [
    "You should find that this new circuit cannot be transpiled as effectively.\n",
    "\n",
    "The reason for this result is that there is no mapping from virtual qubits to physical qubits that would allow the circuit to be covered to Helmis' star topology without inserting SWAP gates. Last time, we used one qubit as a control qubit for all CNOT gates, so we could comfortably map that one qubit to the central qubit. Now, the central qubit in Helmis' star topology cannot directly be assigned to all CNOT gates.\n",
    "\n",
    "Because this longer circuit will now, on average, experience more gate errors, we should see a bit worse results compared to our more optimal circuit."
   ]
  },
  {
   "cell_type": "markdown",
   "metadata": {},
   "source": [
    "## Takeaway\n",
    "\n",
    "+ Transpilation maps the quantum circuit to the qubit layout and native gates of the QPU\n",
    "+ In Qiskit, transpilation is done with the `transpile` method\n",
    "+ User can pass parameters to the transpiler: `basis_gates`, `coupling_map`, `initial_layout`\n",
    "+ Parameter `optimization_level` adjusts the level of optimization automatically\n",
    "+ Heavier optimization takes more classical processing\n",
    "+ Circuit desing is important for the best performance"
   ]
  }
 ],
 "metadata": {
  "kernelspec": {
   "display_name": "Python 3 (ipykernel)",
   "language": "python",
   "name": "python3"
  },
  "language_info": {
   "codemirror_mode": {
    "name": "ipython",
    "version": 3
   },
   "file_extension": ".py",
   "mimetype": "text/x-python",
   "name": "python",
   "nbconvert_exporter": "python",
   "pygments_lexer": "ipython3",
   "version": "3.10.10"
  }
 },
 "nbformat": 4,
 "nbformat_minor": 4
}
