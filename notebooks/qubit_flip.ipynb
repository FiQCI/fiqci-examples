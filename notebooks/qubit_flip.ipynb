{
 "cells": [
  {
   "cell_type": "markdown",
   "id": "9df1b08e-141f-4e74-b61f-cc6fccc61aee",
   "metadata": {},
   "source": [
    "# Simple Qubit Flipping Example\n",
    "This example explains how we can flip one or more qubits using qiskit"
   ]
  },
  {
   "cell_type": "code",
   "execution_count": null,
   "id": "a7d7921d-e3e2-40d1-86df-f3148f1ea8c6",
   "metadata": {},
   "outputs": [],
   "source": [
    "from qiskit_iqm import IQMProvider\n",
    "from qiskit import QuantumCircuit, QuantumRegister, execute"
   ]
  },
  {
   "cell_type": "markdown",
   "id": "318bf271-cf45-4b2f-9343-fc9d1ad49647",
   "metadata": {},
   "source": [
    "To access Helmi, we connect to the backend using the cocos url"
   ]
  },
  {
   "cell_type": "code",
   "execution_count": null,
   "id": "99d6b982-153d-4bcb-915a-6f7376d8a4b0",
   "metadata": {},
   "outputs": [],
   "source": [
    "provider = IQMProvider(\"https://qc.vtt.fi/cocos\")\n",
    "backend = provider.get_backend()"
   ]
  },
  {
   "cell_type": "markdown",
   "id": "e6c40afa-b3c8-4ed8-8229-6dcf8d8ec154",
   "metadata": {},
   "source": [
    "## Creating circuits\n",
    "\n",
    "First, we define a function that creates a circuit with one qubit and applies X-gate to the qubit. The X-gate flips the qubit from |0> to |1>. After applying the gate we measure and return the ciruit with the correct mapping"
   ]
  },
  {
   "cell_type": "code",
   "execution_count": null,
   "id": "6522a69d-7367-491b-9f94-b76a335f74e5",
   "metadata": {},
   "outputs": [],
   "source": [
    "def single_flip_circuit(qubit: int) -> tuple[QuantumCircuit, dict]:\n",
    "    qreg = QuantumRegister(1, \"qb\")\n",
    "    circuit = QuantumCircuit(qreg)\n",
    "    circuit.x(0)\n",
    "    circuit.measure_all()\n",
    "    qubit_mapping = {qreg[0]: qubit}\n",
    "    return circuit, qubit_mapping"
   ]
  },
  {
   "cell_type": "markdown",
   "id": "06c2c7bd-0e34-49bc-89c6-444d4dc4aece",
   "metadata": {},
   "source": [
    "Next we define a function that takes a list as a parameter. Then creates a circuit with number of qubits corresponding to the length of the list. After creating the circuit, we apply an X-gate to every qubit in the circuit. We measure the circuit and map the qubits. "
   ]
  },
  {
   "cell_type": "code",
   "execution_count": null,
   "id": "13ca3392-8270-454f-a5c6-cddb1fd0437c",
   "metadata": {},
   "outputs": [],
   "source": [
    "def flip_circuit(qubits: list[int]) -> tuple[QuantumCircuit, dict]:\n",
    "    qreg = QuantumRegister(len(qubits), \"qb\")\n",
    "    circuit = QuantumCircuit(qreg)\n",
    "    for qubit in qubits:\n",
    "        circuit.x(qubit)\n",
    "    circuit.measure_all()\n",
    "    qubits_mapping = {qreg[i]: qubits[i] for i in range(len(qubits))}\n",
    "    return circuit, qubits_mapping"
   ]
  },
  {
   "cell_type": "markdown",
   "id": "e68ca584-4274-4b8b-b575-3e6e5f99358c",
   "metadata": {},
   "source": [
    "Calculating the probability of the desired states from the job result:"
   ]
  },
  {
   "cell_type": "code",
   "execution_count": null,
   "id": "ef52cfca-1360-4c18-9e90-9f482cc59c9c",
   "metadata": {},
   "outputs": [],
   "source": [
    "def calculate_success_probability(counts: dict, shots: int, desired_state: str) -> float:\n",
    "    success_counts = counts.get(desired_state, 0)\n",
    "    return success_counts / shots"
   ]
  },
  {
   "cell_type": "markdown",
   "id": "977ccb40-da50-4d2a-94fe-f1331a06af90",
   "metadata": {},
   "source": [
    "## Submitting the Jobs"
   ]
  },
  {
   "cell_type": "code",
   "execution_count": null,
   "id": "22085975-f811-442b-9f54-f380dfd3d7dc",
   "metadata": {},
   "outputs": [],
   "source": [
    "def flip_single_qubit(desired_state: str, shots: int = 1000) -> None:\n",
    "    print(\"\\nFlip one qubit at a time\\n\")\n",
    "    for qb in range(5):\n",
    "        circuit, mapping = single_flip_circuit(qb)\n",
    "        job = execute(circuit, backend, shots=shots, initial_layout=mapping)\n",
    "        counts = job.result().get_counts()\n",
    "        success_probability = calculate_success_probability(counts, shots, desired_state)\n",
    "        print(\n",
    "            f\"QB{qb + 1} -> {counts}, Success probability: {success_probability * 100:.2f}%\",\n",
    "        )"
   ]
  },
  {
   "cell_type": "code",
   "execution_count": null,
   "id": "d97764b5-2eb3-4084-b98f-72b96d6bf720",
   "metadata": {},
   "outputs": [],
   "source": [
    "flip_single_qubit('1')"
   ]
  },
  {
   "cell_type": "code",
   "execution_count": null,
   "id": "5f602481-6269-4032-a17a-4a1794a6f76f",
   "metadata": {},
   "outputs": [],
   "source": [
    "def flip_qubits(desired_state: str, shots: int = 1000) -> None:\n",
    "    print(\"\\nFlip all qubits at once\\n\")\n",
    "    circuit, mapping = flip_circuit([0, 1, 2, 3, 4])\n",
    "    job = execute(circuit, backend, shots=shots, initial_layout=mapping)\n",
    "    counts = job.result().get_counts()\n",
    "    success_probability = calculate_success_probability(counts, shots, desired_state)\n",
    "    print(\n",
    "        f\"Counts: {counts}, \\nSuccess probability: {success_probability * 100:.2f}%\",\n",
    "    )"
   ]
  },
  {
   "cell_type": "code",
   "execution_count": null,
   "id": "029b6532-f143-4e6b-bad5-5332728b762c",
   "metadata": {},
   "outputs": [],
   "source": [
    "flip_qubits('11111', 1000)"
   ]
  }
 ],
 "metadata": {
  "kernelspec": {
   "display_name": "Python 3 (ipykernel)",
   "language": "python",
   "name": "python3"
  },
  "language_info": {
   "codemirror_mode": {
    "name": "ipython",
    "version": 3
   },
   "file_extension": ".py",
   "mimetype": "text/x-python",
   "name": "python",
   "nbconvert_exporter": "python",
   "pygments_lexer": "ipython3",
   "version": "3.11.5"
  }
 },
 "nbformat": 4,
 "nbformat_minor": 5
}
