{
 "cells": [
  {
   "cell_type": "code",
   "execution_count": null,
   "metadata": {},
   "outputs": [],
   "source": [
    "import os\n",
    "from iqm.qiskit_iqm import IQMProvider\n",
    "from qiskit.compiler import transpile\n",
    "from qiskit import QuantumCircuit\n",
    "from qiskit.visualization import plot_histogram"
   ]
  },
  {
   "cell_type": "code",
   "execution_count": null,
   "metadata": {},
   "outputs": [],
   "source": [
    "# Set up the Helmi backend\n",
    "HELMI_CORTEX_URL = os.getenv('HELMI_CORTEX_URL')\n",
    "if not HELMI_CORTEX_URL:\n",
    "\traise ValueError(\"Environment variable HELMI_CORTEX_URL is not set\")\n",
    "\n",
    "provider = IQMProvider(HELMI_CORTEX_URL)\n",
    "backend = provider.get_backend()"
   ]
  },
  {
   "cell_type": "code",
   "execution_count": null,
   "metadata": {},
   "outputs": [],
   "source": [
    "# Create a bell state: \n",
    "qc = QuantumCircuit(2)\n",
    "qc.h(0)\n",
    "qc.cx(0, 1)\n",
    "qc.measure_all() #expected equal majority counts of '00' and '11'\n",
    "\n",
    "qc.draw()"
   ]
  },
  {
   "cell_type": "code",
   "execution_count": null,
   "metadata": {},
   "outputs": [],
   "source": [
    "transpiled_circuit = transpile(qc, backend, optimization_level=3)\n",
    "transpiled_circuit.draw()"
   ]
  },
  {
   "cell_type": "code",
   "execution_count": null,
   "metadata": {},
   "outputs": [],
   "source": [
    "job = backend.run(transpiled_circuit, shots=1000)\n",
    "result = job.result()\n",
    "counts = result.get_counts()"
   ]
  },
  {
   "cell_type": "code",
   "execution_count": null,
   "metadata": {},
   "outputs": [],
   "source": [
    "plot_histogram(counts)"
   ]
  }
 ],
 "metadata": {
  "kernelspec": {
   "display_name": "Python (helmi)",
   "language": "python",
   "name": "helmi"
  },
  "language_info": {
   "codemirror_mode": {
    "name": "ipython",
    "version": 3
   },
   "file_extension": ".py",
   "mimetype": "text/x-python",
   "name": "python",
   "nbconvert_exporter": "python",
   "pygments_lexer": "ipython3",
   "version": "3.9.6"
  }
 },
 "nbformat": 4,
 "nbformat_minor": 2
}
