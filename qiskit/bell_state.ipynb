{
 "cells": [
  {
   "cell_type": "code",
   "execution_count": 29,
   "metadata": {},
   "outputs": [],
   "source": [
    "import os\n",
    "from iqm.qiskit_iqm import IQMProvider\n",
    "from iqm.qiskit_iqm.fake_backends import IQMFakeAdonis\n",
    "from qiskit import QuantumCircuit, transpile\n",
    "from qiskit.visualization import plot_histogram"
   ]
  },
  {
   "cell_type": "code",
   "execution_count": 30,
   "metadata": {},
   "outputs": [
    {
     "name": "stdout",
     "output_type": "stream",
     "text": [
      "Environment variable HELMI_CORTEX_URL is not set. Are you running on Lumi and on the q_fiqci node?. Falling back to fake backend.\n"
     ]
    }
   ],
   "source": [
    "# Set up the Helmi backend\n",
    "backend = IQMFakeAdonis()\n",
    "HELMI_CORTEX_URL = os.getenv('HELMI_CORTEX_URL')\n",
    "if not HELMI_CORTEX_URL:\n",
    "    print('Environment variable HELMI_CORTEX_URL is not set. Are you running on Lumi and on the q_fiqci node?. Falling back to fake backend.')\n",
    "\t#raise ValueError(\"Environment variable HELMI_CORTEX_URL is not set\")\n",
    "\n",
    "else:\n",
    "    provider = IQMProvider(HELMI_CORTEX_URL)\n",
    "    backend = provider.get_backend()"
   ]
  },
  {
   "cell_type": "code",
   "execution_count": 31,
   "metadata": {},
   "outputs": [
    {
     "data": {
      "text/html": [
       "<pre style=\"word-wrap: normal;white-space: pre;background: #fff0;line-height: 1.1;font-family: &quot;Courier New&quot;,Courier,monospace\">        ┌───┐      ░ ┌─┐   \n",
       "   q_0: ┤ H ├──■───░─┤M├───\n",
       "        └───┘┌─┴─┐ ░ └╥┘┌─┐\n",
       "   q_1: ─────┤ X ├─░──╫─┤M├\n",
       "             └───┘ ░  ║ └╥┘\n",
       "meas: 2/══════════════╩══╩═\n",
       "                      0  1 </pre>"
      ],
      "text/plain": [
       "        ┌───┐      ░ ┌─┐   \n",
       "   q_0: ┤ H ├──■───░─┤M├───\n",
       "        └───┘┌─┴─┐ ░ └╥┘┌─┐\n",
       "   q_1: ─────┤ X ├─░──╫─┤M├\n",
       "             └───┘ ░  ║ └╥┘\n",
       "meas: 2/══════════════╩══╩═\n",
       "                      0  1 "
      ]
     },
     "execution_count": 31,
     "metadata": {},
     "output_type": "execute_result"
    }
   ],
   "source": [
    "# Create a bell state: \n",
    "qc = QuantumCircuit(2)\n",
    "qc.h(0)\n",
    "qc.cx(0, 1)\n",
    "qc.measure_all() #expected equal majority counts of '00' and '11'\n",
    "\n",
    "qc.draw()"
   ]
  },
  {
   "cell_type": "code",
   "execution_count": 32,
   "metadata": {},
   "outputs": [
    {
     "data": {
      "text/html": [
       "<pre style=\"word-wrap: normal;white-space: pre;background: #fff0;line-height: 1.1;font-family: &quot;Courier New&quot;,Courier,monospace\">global phase: 3π/2\n",
       "               ┌────────────┐┌────────┐                            ░ ┌─┐   \n",
       "      q_0 -> 0 ┤ R(π/2,π/2) ├┤ R(π,0) ├─■──────────────────────────░─┤M├───\n",
       "               └────────────┘└────────┘ │                          ░ └╥┘   \n",
       "ancilla_0 -> 1 ─────────────────────────┼─────────────────────────────╫────\n",
       "               ┌────────────┐┌────────┐ │ ┌────────────┐┌────────┐ ░  ║ ┌─┐\n",
       "      q_1 -> 2 ┤ R(π/2,π/2) ├┤ R(π,0) ├─■─┤ R(π/2,π/2) ├┤ R(π,0) ├─░──╫─┤M├\n",
       "               └────────────┘└────────┘   └────────────┘└────────┘ ░  ║ └╥┘\n",
       "ancilla_1 -> 3 ───────────────────────────────────────────────────────╫──╫─\n",
       "                                                                      ║  ║ \n",
       "ancilla_2 -> 4 ───────────────────────────────────────────────────────╫──╫─\n",
       "                                                                      ║  ║ \n",
       "       meas: 2/═══════════════════════════════════════════════════════╩══╩═\n",
       "                                                                      0  1 </pre>"
      ],
      "text/plain": [
       "global phase: 3π/2\n",
       "               ┌────────────┐┌────────┐                            ░ ┌─┐   \n",
       "      q_0 -> 0 ┤ R(π/2,π/2) ├┤ R(π,0) ├─■──────────────────────────░─┤M├───\n",
       "               └────────────┘└────────┘ │                          ░ └╥┘   \n",
       "ancilla_0 -> 1 ─────────────────────────┼─────────────────────────────╫────\n",
       "               ┌────────────┐┌────────┐ │ ┌────────────┐┌────────┐ ░  ║ ┌─┐\n",
       "      q_1 -> 2 ┤ R(π/2,π/2) ├┤ R(π,0) ├─■─┤ R(π/2,π/2) ├┤ R(π,0) ├─░──╫─┤M├\n",
       "               └────────────┘└────────┘   └────────────┘└────────┘ ░  ║ └╥┘\n",
       "ancilla_1 -> 3 ───────────────────────────────────────────────────────╫──╫─\n",
       "                                                                      ║  ║ \n",
       "ancilla_2 -> 4 ───────────────────────────────────────────────────────╫──╫─\n",
       "                                                                      ║  ║ \n",
       "       meas: 2/═══════════════════════════════════════════════════════╩══╩═\n",
       "                                                                      0  1 "
      ]
     },
     "execution_count": 32,
     "metadata": {},
     "output_type": "execute_result"
    }
   ],
   "source": [
    "transpiled_circuit = transpile(qc, backend, layout_method='sabre', optimization_level=3)\n",
    "transpiled_circuit.draw()"
   ]
  },
  {
   "cell_type": "code",
   "execution_count": 33,
   "metadata": {},
   "outputs": [],
   "source": [
    "job = backend.run(transpiled_circuit, shots=1000)\n",
    "result = job.result()\n",
    "counts = result.get_counts()\n"
   ]
  },
  {
   "cell_type": "code",
   "execution_count": 35,
   "metadata": {},
   "outputs": [
    {
     "data": {
      "image/png": "[encoded data removed]",
      "text/plain": [
       "<Figure size 640x480 with 1 Axes>"
      ]
     },
     "execution_count": 35,
     "metadata": {},
     "output_type": "execute_result"
    }
   ],
   "source": [
    "plot_histogram(counts)"
   ]
  }
 ],
 "metadata": {
  "kernelspec": {
   "display_name": "fiqciex",
   "language": "python",
   "name": "python3"
  },
  "language_info": {
   "codemirror_mode": {
    "name": "ipython",
    "version": 3
   },
   "file_extension": ".py",
   "mimetype": "text/x-python",
   "name": "python",
   "nbconvert_exporter": "python",
   "pygments_lexer": "ipython3",
   "version": "3.11.11"
  }
 },
 "nbformat": 4,
 "nbformat_minor": 2
}
